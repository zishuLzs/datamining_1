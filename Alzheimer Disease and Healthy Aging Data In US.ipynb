{
 "cells": [
  {
   "cell_type": "markdown",
   "metadata": {},
   "source": [
    "# 数据挖掘作业1\n",
    "## 姓名：刘子书   学号：1120201818\n",
    "### 数据集：Alzheimer Disease and Healthy Aging Data In US"
   ]
  },
  {
   "cell_type": "code",
   "execution_count": 47,
   "metadata": {},
   "outputs": [],
   "source": [
    "#导入必要的包\n",
    "import matplotlib.pyplot as plt\n",
    "import pandas as pd\n",
    "import numpy as np\n",
    "from scipy import stats\n",
    "from collections import Counter\n",
    "from math import isnan\n",
    "import math\n",
    "import os"
   ]
  },
  {
   "cell_type": "markdown",
   "metadata": {},
   "source": [
    "## 查看数据集并对数据集进行了解"
   ]
  },
  {
   "cell_type": "code",
   "execution_count": 2,
   "metadata": {},
   "outputs": [
    {
     "data": {
      "text/html": [
       "<div>\n",
       "<style scoped>\n",
       "    .dataframe tbody tr th:only-of-type {\n",
       "        vertical-align: middle;\n",
       "    }\n",
       "\n",
       "    .dataframe tbody tr th {\n",
       "        vertical-align: top;\n",
       "    }\n",
       "\n",
       "    .dataframe thead th {\n",
       "        text-align: right;\n",
       "    }\n",
       "</style>\n",
       "<table border=\"1\" class=\"dataframe\">\n",
       "  <thead>\n",
       "    <tr style=\"text-align: right;\">\n",
       "      <th></th>\n",
       "      <th>YearStart</th>\n",
       "      <th>YearEnd</th>\n",
       "      <th>LocationAbbr</th>\n",
       "      <th>LocationDesc</th>\n",
       "      <th>Datasource</th>\n",
       "      <th>Class</th>\n",
       "      <th>Topic</th>\n",
       "      <th>Question</th>\n",
       "      <th>Data_Value_Unit</th>\n",
       "      <th>DataValueTypeID</th>\n",
       "      <th>...</th>\n",
       "      <th>Stratification2</th>\n",
       "      <th>Geolocation</th>\n",
       "      <th>ClassID</th>\n",
       "      <th>TopicID</th>\n",
       "      <th>QuestionID</th>\n",
       "      <th>LocationID</th>\n",
       "      <th>StratificationCategoryID1</th>\n",
       "      <th>StratificationID1</th>\n",
       "      <th>StratificationCategoryID2</th>\n",
       "      <th>StratificationID2</th>\n",
       "    </tr>\n",
       "  </thead>\n",
       "  <tbody>\n",
       "    <tr>\n",
       "      <td>0</td>\n",
       "      <td>2020</td>\n",
       "      <td>2020</td>\n",
       "      <td>HI</td>\n",
       "      <td>Hawaii</td>\n",
       "      <td>BRFSS</td>\n",
       "      <td>Overall Health</td>\n",
       "      <td>Arthritis among older adults</td>\n",
       "      <td>Percentage of older adults ever told they have...</td>\n",
       "      <td>%</td>\n",
       "      <td>PRCTG</td>\n",
       "      <td>...</td>\n",
       "      <td>NaN</td>\n",
       "      <td>POINT (-157.8577494 21.30485044)</td>\n",
       "      <td>C01</td>\n",
       "      <td>TOC11</td>\n",
       "      <td>Q43</td>\n",
       "      <td>15</td>\n",
       "      <td>AGE</td>\n",
       "      <td>5064</td>\n",
       "      <td>OVERALL</td>\n",
       "      <td>OVERALL</td>\n",
       "    </tr>\n",
       "    <tr>\n",
       "      <td>1</td>\n",
       "      <td>2017</td>\n",
       "      <td>2017</td>\n",
       "      <td>ID</td>\n",
       "      <td>Idaho</td>\n",
       "      <td>BRFSS</td>\n",
       "      <td>Mental Health</td>\n",
       "      <td>Lifetime diagnosis of depression</td>\n",
       "      <td>Percentage of older adults with a lifetime dia...</td>\n",
       "      <td>%</td>\n",
       "      <td>PRCTG</td>\n",
       "      <td>...</td>\n",
       "      <td>NaN</td>\n",
       "      <td>POINT (-114.36373 43.68263001)</td>\n",
       "      <td>C05</td>\n",
       "      <td>TMC03</td>\n",
       "      <td>Q27</td>\n",
       "      <td>16</td>\n",
       "      <td>AGE</td>\n",
       "      <td>5064</td>\n",
       "      <td>OVERALL</td>\n",
       "      <td>OVERALL</td>\n",
       "    </tr>\n",
       "    <tr>\n",
       "      <td>2</td>\n",
       "      <td>2017</td>\n",
       "      <td>2017</td>\n",
       "      <td>ID</td>\n",
       "      <td>Idaho</td>\n",
       "      <td>BRFSS</td>\n",
       "      <td>Overall Health</td>\n",
       "      <td>Arthritis among older adults</td>\n",
       "      <td>Percentage of older adults ever told they have...</td>\n",
       "      <td>%</td>\n",
       "      <td>PRCTG</td>\n",
       "      <td>...</td>\n",
       "      <td>NaN</td>\n",
       "      <td>POINT (-114.36373 43.68263001)</td>\n",
       "      <td>C01</td>\n",
       "      <td>TOC11</td>\n",
       "      <td>Q43</td>\n",
       "      <td>16</td>\n",
       "      <td>AGE</td>\n",
       "      <td>5064</td>\n",
       "      <td>OVERALL</td>\n",
       "      <td>OVERALL</td>\n",
       "    </tr>\n",
       "    <tr>\n",
       "      <td>3</td>\n",
       "      <td>2018</td>\n",
       "      <td>2018</td>\n",
       "      <td>ID</td>\n",
       "      <td>Idaho</td>\n",
       "      <td>BRFSS</td>\n",
       "      <td>Overall Health</td>\n",
       "      <td>Physically unhealthy days (mean number of days)</td>\n",
       "      <td>Physically unhealthy days (mean number of days...</td>\n",
       "      <td>Number</td>\n",
       "      <td>MEAN</td>\n",
       "      <td>...</td>\n",
       "      <td>NaN</td>\n",
       "      <td>POINT (-114.36373 43.68263001)</td>\n",
       "      <td>C01</td>\n",
       "      <td>TOC01</td>\n",
       "      <td>Q08</td>\n",
       "      <td>16</td>\n",
       "      <td>AGE</td>\n",
       "      <td>5064</td>\n",
       "      <td>OVERALL</td>\n",
       "      <td>OVERALL</td>\n",
       "    </tr>\n",
       "    <tr>\n",
       "      <td>4</td>\n",
       "      <td>2020</td>\n",
       "      <td>2020</td>\n",
       "      <td>IN</td>\n",
       "      <td>Indiana</td>\n",
       "      <td>BRFSS</td>\n",
       "      <td>Mental Health</td>\n",
       "      <td>Lifetime diagnosis of depression</td>\n",
       "      <td>Percentage of older adults with a lifetime dia...</td>\n",
       "      <td>%</td>\n",
       "      <td>PRCTG</td>\n",
       "      <td>...</td>\n",
       "      <td>Male</td>\n",
       "      <td>POINT (-86.14996019 39.76691045)</td>\n",
       "      <td>C05</td>\n",
       "      <td>TMC03</td>\n",
       "      <td>Q27</td>\n",
       "      <td>18</td>\n",
       "      <td>AGE</td>\n",
       "      <td>AGE_OVERALL</td>\n",
       "      <td>GENDER</td>\n",
       "      <td>MALE</td>\n",
       "    </tr>\n",
       "  </tbody>\n",
       "</table>\n",
       "<p>5 rows × 29 columns</p>\n",
       "</div>"
      ],
      "text/plain": [
       "   YearStart  YearEnd LocationAbbr LocationDesc Datasource           Class  \\\n",
       "0       2020     2020           HI       Hawaii      BRFSS  Overall Health   \n",
       "1       2017     2017           ID        Idaho      BRFSS   Mental Health   \n",
       "2       2017     2017           ID        Idaho      BRFSS  Overall Health   \n",
       "3       2018     2018           ID        Idaho      BRFSS  Overall Health   \n",
       "4       2020     2020           IN      Indiana      BRFSS   Mental Health   \n",
       "\n",
       "                                             Topic  \\\n",
       "0                     Arthritis among older adults   \n",
       "1                 Lifetime diagnosis of depression   \n",
       "2                     Arthritis among older adults   \n",
       "3  Physically unhealthy days (mean number of days)   \n",
       "4                 Lifetime diagnosis of depression   \n",
       "\n",
       "                                            Question Data_Value_Unit  \\\n",
       "0  Percentage of older adults ever told they have...               %   \n",
       "1  Percentage of older adults with a lifetime dia...               %   \n",
       "2  Percentage of older adults ever told they have...               %   \n",
       "3  Physically unhealthy days (mean number of days...          Number   \n",
       "4  Percentage of older adults with a lifetime dia...               %   \n",
       "\n",
       "  DataValueTypeID  ... Stratification2                       Geolocation  \\\n",
       "0           PRCTG  ...             NaN  POINT (-157.8577494 21.30485044)   \n",
       "1           PRCTG  ...             NaN    POINT (-114.36373 43.68263001)   \n",
       "2           PRCTG  ...             NaN    POINT (-114.36373 43.68263001)   \n",
       "3            MEAN  ...             NaN    POINT (-114.36373 43.68263001)   \n",
       "4           PRCTG  ...            Male  POINT (-86.14996019 39.76691045)   \n",
       "\n",
       "   ClassID TopicID QuestionID  LocationID StratificationCategoryID1  \\\n",
       "0      C01   TOC11        Q43          15                       AGE   \n",
       "1      C05   TMC03        Q27          16                       AGE   \n",
       "2      C01   TOC11        Q43          16                       AGE   \n",
       "3      C01   TOC01        Q08          16                       AGE   \n",
       "4      C05   TMC03        Q27          18                       AGE   \n",
       "\n",
       "  StratificationID1 StratificationCategoryID2 StratificationID2  \n",
       "0              5064                   OVERALL           OVERALL  \n",
       "1              5064                   OVERALL           OVERALL  \n",
       "2              5064                   OVERALL           OVERALL  \n",
       "3              5064                   OVERALL           OVERALL  \n",
       "4       AGE_OVERALL                    GENDER              MALE  \n",
       "\n",
       "[5 rows x 29 columns]"
      ]
     },
     "execution_count": 2,
     "metadata": {},
     "output_type": "execute_result"
    }
   ],
   "source": [
    "#读取数据集\n",
    "path = 'D:/Python/Jupyter\\datamining_1/'\n",
    "data = pd.read_csv(path+'Alzheimer Disease and Healthy Aging Data In US.csv',index_col=False ,low_memory=False)\n",
    "data.head()#默认展示前五行数据"
   ]
  },
  {
   "cell_type": "code",
   "execution_count": 3,
   "metadata": {},
   "outputs": [],
   "source": [
    "# 数据集的含义\n",
    "# 列名------------------------含义\n",
    "# YearStart                   数据收集开始的年份（标称）\n",
    "# YearEnd                     数据收集结束的年份（标称）\n",
    "# LocationAbbr                数据收集位置的缩写（标称）\n",
    "# LocationDesc                数据收集位置的全名（标称）\n",
    "# Datasource                  数据来源（标称）\n",
    "# Class                       数据的类（标称）\n",
    "# Topic                       数据的主题（标称）\n",
    "# Question                    与数据相关的问题（标称）\n",
    "# Data_Value_Unit             数据值测量的单位（标称）\n",
    "# DataValueTypeID             数据值类型ID（标称）\n",
    "# Data_Value_Type             数据值的类型（例如平均值、百分比）（标称）\n",
    "# Data_Value                  实际数据值（数值）\n",
    "# Data_Value_Alt              一个替代数据值（数值）\n",
    "# Low_Confidence_Limit        数据值置信区间的下限（数值）\n",
    "# High_Confidence_Limit       数据值置信区间的上限（数值）\n",
    "# Sample_Size                 用于收集数据的样本的大小\n",
    "# StratificationCategory1     用于分层的第一个类别（例如年龄组）（标称）\n",
    "# Stratification1             使用的特定分层（例如18-24岁）（标称）\n",
    "# StratificationCategory2     用于分层的第二类（标称）\n",
    "# Stratification2             用于第二类的具体分层（标称）\n",
    "# Geolocation                 收集数据的位置的经纬度（数值）\n",
    "# ClassID                     数据类的ID（标称）\n",
    "# TopicID                     数据主题的ID（标称）\n",
    "# QuestionID                  与数据相关的问题的ID（标称）\n",
    "# LocationID                  收集数据的位置的ID（标称）\n",
    "# StratificationCategoryID1   用于分层的第一个类别的ID（标称）\n",
    "# StratificationID1           用于第一类的特定分层的ID（标称）\n",
    "# StratificationCategoryID2   用于分层的第二个类别的ID（标称）\n",
    "# StratificationID2           用于第二类的特定分成的ID（标称）"
   ]
  },
  {
   "cell_type": "code",
   "execution_count": 4,
   "metadata": {},
   "outputs": [
    {
     "data": {
      "text/plain": [
       "YearStart                      int64\n",
       "YearEnd                        int64\n",
       "LocationAbbr                  object\n",
       "LocationDesc                  object\n",
       "Datasource                    object\n",
       "Class                         object\n",
       "Topic                         object\n",
       "Question                      object\n",
       "Data_Value_Unit               object\n",
       "DataValueTypeID               object\n",
       "Data_Value_Type               object\n",
       "Data_Value                   float64\n",
       "Data_Value_Alt               float64\n",
       "Low_Confidence_Limit         float64\n",
       "High_Confidence_Limit        float64\n",
       "Sample_Size                  float64\n",
       "StratificationCategory1       object\n",
       "Stratification1               object\n",
       "StratificationCategory2       object\n",
       "Stratification2               object\n",
       "Geolocation                   object\n",
       "ClassID                       object\n",
       "TopicID                       object\n",
       "QuestionID                    object\n",
       "LocationID                     int64\n",
       "StratificationCategoryID1     object\n",
       "StratificationID1             object\n",
       "StratificationCategoryID2     object\n",
       "StratificationID2             object\n",
       "dtype: object"
      ]
     },
     "execution_count": 4,
     "metadata": {},
     "output_type": "execute_result"
    }
   ],
   "source": [
    "data[\"Low_Confidence_Limit\"] = pd.to_numeric(data[\"Low_Confidence_Limit\"],errors='coerce')\n",
    "data[\"High_Confidence_Limit\"] = pd.to_numeric(data[\"High_Confidence_Limit\"],errors='coerce')\n",
    "data.dtypes #每列数据的数据类型"
   ]
  },
  {
   "cell_type": "code",
   "execution_count": 5,
   "metadata": {},
   "outputs": [
    {
     "data": {
      "text/plain": [
       "(214462, 29)"
      ]
     },
     "execution_count": 5,
     "metadata": {},
     "output_type": "execute_result"
    }
   ],
   "source": [
    "data.shape #数据集的大小"
   ]
  },
  {
   "cell_type": "markdown",
   "metadata": {},
   "source": [
    "## 数据摘要和可视化\n",
    "### 数据摘要\n",
    "#### （1）标称属性，给出每个可能取值的频数"
   ]
  },
  {
   "cell_type": "code",
   "execution_count": 6,
   "metadata": {},
   "outputs": [
    {
     "data": {
      "text/plain": [
       "United States, DC & Territories    4644\n",
       "West                               4638\n",
       "Northeast                          4614\n",
       "Midwest                            4611\n",
       "Oregon                             4565\n",
       "New York                           4557\n",
       "South                              4542\n",
       "Utah                               4222\n",
       "Ohio                               3955\n",
       "Georgia                            3951\n",
       "Maryland                           3919\n",
       "Hawaii                             3907\n",
       "Tennessee                          3879\n",
       "Michigan                           3796\n",
       "Virginia                           3758\n",
       "Florida                            3753\n",
       "Maine                              3733\n",
       "Texas                              3699\n",
       "Nevada                             3696\n",
       "District of Columbia               3684\n",
       "West Virginia                      3682\n",
       "Mississippi                        3677\n",
       "Pennsylvania                       3648\n",
       "New Mexico                         3635\n",
       "Alabama                            3633\n",
       "Kentucky                           3623\n",
       "Alaska                             3611\n",
       "South Carolina                     3592\n",
       "New Jersey                         3589\n",
       "Arizona                            3582\n",
       "Missouri                           3573\n",
       "Illinois                           3571\n",
       "Indiana                            3570\n",
       "Wisconsin                          3569\n",
       "Louisiana                          3563\n",
       "Minnesota                          3555\n",
       "Nebraska                           3546\n",
       "Connecticut                        3543\n",
       "Rhode Island                       3534\n",
       "Oklahoma                           3526\n",
       "South Dakota                       3526\n",
       "North Dakota                       3514\n",
       "Kansas                             3510\n",
       "Idaho                              3507\n",
       "Iowa                               3501\n",
       "Arkansas                           3498\n",
       "Wyoming                            3494\n",
       "California                         3447\n",
       "Colorado                           3390\n",
       "North Carolina                     3349\n",
       "Washington                         3348\n",
       "Montana                            3348\n",
       "Delaware                           3346\n",
       "New Hampshire                      3284\n",
       "Vermont                            3278\n",
       "Massachusetts                      3174\n",
       "Puerto Rico                        2797\n",
       "Guam                               2703\n",
       "Virgin Islands                      503\n",
       "Name: LocationDesc, dtype: int64"
      ]
     },
     "execution_count": 6,
     "metadata": {},
     "output_type": "execute_result"
    }
   ],
   "source": [
    "# 由上面对数据集各列进行分析得知，该数据集的标称属性有'LocationAbbr','LocationDesc','Datasource','Class','Topic','Question'\n",
    "# 'Data_Value_Unit','DataValueTypeID','Data_Value_Type','StratificationCategory1','Stratification1','StratificationCategory2',\n",
    "# 'Stratification2','ClassID','TopicID','QuestionID','LocationID','StratificationCategoryID1','StratificationID1',\n",
    "# 'StratificationCategoryID2','StratificationID2','YearStart','YearEnd'二十三个标称属性\n",
    "# 由于部分属性之间存在相关性，下面进行合并分析，共13组\n",
    "\n",
    "pd.value_counts(data['LocationDesc'])\n",
    "# (1)数据收集的位置：'LocationAbbr'，'LocationDesc'，'LocationID'"
   ]
  },
  {
   "cell_type": "code",
   "execution_count": 7,
   "metadata": {},
   "outputs": [
    {
     "data": {
      "text/plain": [
       "BRFSS    214462\n",
       "Name: Datasource, dtype: int64"
      ]
     },
     "execution_count": 7,
     "metadata": {},
     "output_type": "execute_result"
    }
   ],
   "source": [
    "pd.value_counts(data['Datasource'])\n",
    "# (2)数据来源：'Datasource'"
   ]
  },
  {
   "cell_type": "code",
   "execution_count": 8,
   "metadata": {},
   "outputs": [
    {
     "data": {
      "text/plain": [
       "Overall Health                         71694\n",
       "Screenings and Vaccines                46867\n",
       "Nutrition/Physical Activity/Obesity    24851\n",
       "Cognitive Decline                      19180\n",
       "Caregiving                             18671\n",
       "Mental Health                          16600\n",
       "Smoking and Alcohol Use                16599\n",
       "Name: Class, dtype: int64"
      ]
     },
     "execution_count": 8,
     "metadata": {},
     "output_type": "execute_result"
    }
   ],
   "source": [
    "pd.value_counts(data['Class'])\n",
    "# (3)数据的类：'Class'，'ClassID'"
   ]
  },
  {
   "cell_type": "code",
   "execution_count": 9,
   "metadata": {},
   "outputs": [
    {
     "data": {
      "text/plain": [
       "Influenza vaccine within past year                                                                        8300\n",
       "No leisure-time physical activity within past month                                                       8300\n",
       "Current smoking                                                                                           8300\n",
       "Frequent mental distress                                                                                  8300\n",
       "Physically unhealthy days (mean number of days)                                                           8300\n",
       "Lifetime diagnosis of depression                                                                          8300\n",
       "Obesity                                                                                                   8300\n",
       "Self-rated health (fair to poor health)                                                                   8299\n",
       "Self-rated health (good to excellent health)                                                              8299\n",
       "Binge drinking within past 30 days                                                                        8299\n",
       "Ever had pneumococcal vaccine                                                                             8268\n",
       "Recent activity limitations in past month                                                                 8233\n",
       "Disability status, including sensory or mobility limitations                                              6917\n",
       "Arthritis among older adults                                                                              5511\n",
       "Fair or poor health among older adults with arthritis                                                     5447\n",
       "Subjective cognitive decline or memory loss among older adults                                            5088\n",
       "Diabetes screening within past 3 years                                                                    4808\n",
       "Talked with health care professional about subjective cognitive decline or memory loss                    4700\n",
       "Need assistance with day-to-day activities because of subjective cognitive decline or memory loss         4696\n",
       "Functional difficulties associated with subjective cognitive decline or memory loss among older adults    4696\n",
       "Fall with injury within last year                                                                         4173\n",
       "Colorectal cancer screening                                                                               4173\n",
       "Oral health:  tooth retention                                                                             4172\n",
       "Prevalence of sufficient sleep                                                                            4171\n",
       "Eating 3 or more vegetables daily                                                                         4127\n",
       "High blood pressure ever                                                                                  4127\n",
       "Cholesterol checked in past 5 years                                                                       4127\n",
       "Eating 2 or more fruits daily                                                                             4124\n",
       "Taking medication for high blood pressure                                                                 4108\n",
       "Severe joint pain among older adults with arthritis                                                       4064\n",
       "Provide care for a friend or family member in past month                                                  3848\n",
       "Expect to provide care for someone in the next two years                                                  3797\n",
       "Provide care for someone with cognitive impairment within the past month                                  3682\n",
       "Duration of caregiving among older adults                                                                 3681\n",
       "Intensity of caregiving among older adults                                                                3663\n",
       "Up-to-date with recommended vaccines and screenings - Women                                               3280\n",
       "Up-to-date with recommended vaccines and screenings - Men                                                 3271\n",
       "Mammogram within past 2 years                                                                             3271\n",
       "Pap test within past 3 years                                                                              3242\n",
       "Name: Topic, dtype: int64"
      ]
     },
     "execution_count": 9,
     "metadata": {},
     "output_type": "execute_result"
    }
   ],
   "source": [
    "pd.value_counts(data['Topic'])\n",
    "# (4)数据的主题：'Topic'，'TopicID'"
   ]
  },
  {
   "cell_type": "code",
   "execution_count": 10,
   "metadata": {},
   "outputs": [
    {
     "data": {
      "text/plain": [
       "Percentage of older adults who are currently obese, with a body mass index (BMI) of 30 or more                                                                               8300\n",
       "Percentage of older adults with a lifetime diagnosis of depression                                                                                                           8300\n",
       "Percentage of older adults who have not had any leisure time physical activity in the past month                                                                             8300\n",
       "Percentage of older adults who reported influenza vaccine within the past year                                                                                               8300\n",
       "Percentage of older adults who have smoked at least 100 cigarettes in their entire life and still smoke every day or some days                                               8300\n",
       "Percentage of older adults who are experiencing frequent mental distress                                                                                                     8300\n",
       "Physically unhealthy days (mean number of days in past month)                                                                                                                8300\n",
       "Percentage of older adults who reported binge drinking within the past 30 days                                                                                               8299\n",
       "Percentage of older adults who self-reported that their health is \"fair\" or \"poor\"                                                                                           8299\n",
       "Percentage of older adults who self-reported that their health is \"good\", \"very good\", or \"excellent\"                                                                        8299\n",
       "Percentage of at risk adults (have diabetes, asthma, cardiovascular disease or currently smoke) who ever had a pneumococcal vaccine                                          8268\n",
       "Mean number of days with activity limitations in the past month                                                                                                              8233\n",
       "Percentage of older adults who report having a disability (includes limitations related to sensory or mobility impairments or a physical, mental, or emotional condition)    6917\n",
       "Percentage of older adults ever told they have arthritis                                                                                                                     5511\n",
       "Fair or poor health among older adults with doctor-diagnosed arthritis                                                                                                       5447\n",
       "Percentage of older adults who reported subjective cognitive decline or memory loss that is happening more often or is getting worse in the preceding 12 months              5088\n",
       "Percentage of older adults without diabetes who reported a blood sugar or diabetes test within 3 years                                                                       4808\n",
       "Percentage of older adults with subjective cognitive decline or memory loss who reported talking with a health care professional about it                                    4700\n",
       "Percentage of older adults who reported subjective cognitive decline or memory loss that interferes with their ability to engage in social activities or household chores    4696\n",
       "Percentage of older adults who reported that as a result of subjective cognitive decline or memory loss that they need assistance with day-to-day activities                 4696\n",
       "Percentage of older adults who had either a home blood stool test within the past year or a sigmoidoscopy or colonoscopy within the past 10 years                            4173\n",
       "Percentage of older adults who have fallen and sustained an injury within last year                                                                                          4173\n",
       "Percentage of older adults who report having lost 5 or fewer teeth due to decay or gum disease                                                                               4172\n",
       "Percentage of older adults getting sufficient sleep (>6 hours)                                                                                                               4171\n",
       "Percentage of older adults who are eating 3 or more vegetables daily                                                                                                         4127\n",
       "Percentage of older adults who had a cholesterol screening within the past 5 years                                                                                           4127\n",
       "Percentage of older adults who have ever been told by a health professional that they have high blood pressure                                                               4127\n",
       "Percentage of older adults who are eating 2 or more fruits daily                                                                                                             4124\n",
       "Percentage of older adults who have been told they have high blood pressure who report currently taking medication for their high blood pressure                             4108\n",
       "Severe joint pain due to arthritis among older adults with doctor-diagnosed arthritis                                                                                        4064\n",
       "Percentage of older adults who provided care for a friend or family member within the past month                                                                             3848\n",
       "Percentage of older adults currently not providing care who expect to provide care for someone with health problems in the next two years                                    3797\n",
       "Percentage of older adults who provided care for someone with dementia or other cognitive impairment within the past month                                                   3682\n",
       "Percentage of older adults who provided care to a friend or family member for six months or more                                                                             3681\n",
       "Average of 20 or more hours of care per week provided to a friend or family member                                                                                           3663\n",
       "Percentage of older adult women who are up to date with select clinical preventive services                                                                                  3280\n",
       "Percentage of older adult women who have received a mammogram within the past 2 years                                                                                        3271\n",
       "Percentage of older adult men who are up to date with select clinical preventive services                                                                                    3271\n",
       "Percentage of older adult women with an intact cervix who had a Pap test within the past 3 years                                                                             3242\n",
       "Name: Question, dtype: int64"
      ]
     },
     "execution_count": 10,
     "metadata": {},
     "output_type": "execute_result"
    }
   ],
   "source": [
    "pd.value_counts(data['Question'])\n",
    "# (5)与数据相关的问题：'Question'，'QuestionID'"
   ]
  },
  {
   "cell_type": "code",
   "execution_count": 11,
   "metadata": {},
   "outputs": [
    {
     "data": {
      "text/plain": [
       "%         197929\n",
       "Number     16533\n",
       "Name: Data_Value_Unit, dtype: int64"
      ]
     },
     "execution_count": 11,
     "metadata": {},
     "output_type": "execute_result"
    }
   ],
   "source": [
    "pd.value_counts(data['Data_Value_Unit'])\n",
    "# (6)数据测量单位：'Data_Value_Unit'"
   ]
  },
  {
   "cell_type": "code",
   "execution_count": 12,
   "metadata": {},
   "outputs": [
    {
     "data": {
      "text/plain": [
       "Percentage    197929\n",
       "Mean           16533\n",
       "Name: Data_Value_Type, dtype: int64"
      ]
     },
     "execution_count": 12,
     "metadata": {},
     "output_type": "execute_result"
    }
   ],
   "source": [
    "pd.value_counts(data['Data_Value_Type'])\n",
    "# (7)数据值类型：'Data_Value_Type'，'DataValueTypeID'"
   ]
  },
  {
   "cell_type": "code",
   "execution_count": 13,
   "metadata": {},
   "outputs": [
    {
     "data": {
      "text/plain": [
       "Age Group    214462\n",
       "Name: StratificationCategory1, dtype: int64"
      ]
     },
     "execution_count": 13,
     "metadata": {},
     "output_type": "execute_result"
    }
   ],
   "source": [
    "pd.value_counts(data['StratificationCategory1'])\n",
    "# (8)用于分层的第一个类别：'StratificationCategory1'，'StratificationCategoryID1'"
   ]
  },
  {
   "cell_type": "code",
   "execution_count": 14,
   "metadata": {},
   "outputs": [
    {
     "data": {
      "text/plain": [
       "Overall              71919\n",
       "50-64 years          71528\n",
       "65 years or older    71015\n",
       "Name: Stratification1, dtype: int64"
      ]
     },
     "execution_count": 14,
     "metadata": {},
     "output_type": "execute_result"
    }
   ],
   "source": [
    "pd.value_counts(data['Stratification1'])\n",
    "# (9)第一类的具体分层：'Stratification1'，'StratificationID1'"
   ]
  },
  {
   "cell_type": "code",
   "execution_count": 15,
   "metadata": {},
   "outputs": [
    {
     "data": {
      "text/plain": [
       "Race/Ethnicity    134959\n",
       "Gender             51834\n",
       "Name: StratificationCategory2, dtype: int64"
      ]
     },
     "execution_count": 15,
     "metadata": {},
     "output_type": "execute_result"
    }
   ],
   "source": [
    "pd.value_counts(data['StratificationCategory2'])\n",
    "# (10)用于分层的第二个类别：'StratificationCategory2'，'StratificationCategoryID2'"
   ]
  },
  {
   "cell_type": "code",
   "execution_count": 16,
   "metadata": {},
   "outputs": [
    {
     "data": {
      "text/plain": [
       "White, non-Hispanic         27633\n",
       "Hispanic                    27525\n",
       "Black, non-Hispanic         26968\n",
       "Native Am/Alaskan Native    26571\n",
       "Asian/Pacific Islander      26262\n",
       "Female                      26091\n",
       "Male                        25743\n",
       "Name: Stratification2, dtype: int64"
      ]
     },
     "execution_count": 16,
     "metadata": {},
     "output_type": "execute_result"
    }
   ],
   "source": [
    "pd.value_counts(data['Stratification2'])\n",
    "# (11)第二类的具体分层：'Stratification2'，'StratificationID2'"
   ]
  },
  {
   "cell_type": "code",
   "execution_count": 17,
   "metadata": {},
   "outputs": [
    {
     "data": {
      "text/plain": [
       "2015    45980\n",
       "2020    36006\n",
       "2019    34354\n",
       "2016    34145\n",
       "2017    33429\n",
       "2018    30548\n",
       "Name: YearStart, dtype: int64"
      ]
     },
     "execution_count": 17,
     "metadata": {},
     "output_type": "execute_result"
    }
   ],
   "source": [
    "pd.value_counts(data['YearStart'])\n",
    "# (12)数据收集开始年份：'YearStart'"
   ]
  },
  {
   "cell_type": "code",
   "execution_count": 18,
   "metadata": {},
   "outputs": [
    {
     "data": {
      "text/plain": [
       "2020    46966\n",
       "2015    35020\n",
       "2019    34354\n",
       "2016    34145\n",
       "2017    33429\n",
       "2018    30548\n",
       "Name: YearEnd, dtype: int64"
      ]
     },
     "execution_count": 18,
     "metadata": {},
     "output_type": "execute_result"
    }
   ],
   "source": [
    "pd.value_counts(data['YearEnd'])\n",
    "# (13)数据收集结束年份：'YearEnd'"
   ]
  },
  {
   "cell_type": "markdown",
   "metadata": {},
   "source": [
    "#### （2）数值属性，给出5数概括及缺失值的个数"
   ]
  },
  {
   "cell_type": "code",
   "execution_count": 19,
   "metadata": {},
   "outputs": [
    {
     "data": {
      "text/html": [
       "<div>\n",
       "<style scoped>\n",
       "    .dataframe tbody tr th:only-of-type {\n",
       "        vertical-align: middle;\n",
       "    }\n",
       "\n",
       "    .dataframe tbody tr th {\n",
       "        vertical-align: top;\n",
       "    }\n",
       "\n",
       "    .dataframe thead th {\n",
       "        text-align: right;\n",
       "    }\n",
       "</style>\n",
       "<table border=\"1\" class=\"dataframe\">\n",
       "  <thead>\n",
       "    <tr style=\"text-align: right;\">\n",
       "      <th></th>\n",
       "      <th>Data_Value</th>\n",
       "      <th>Data_Value_Alt</th>\n",
       "      <th>Low_Confidence_Limit</th>\n",
       "      <th>High_Confidence_Limit</th>\n",
       "    </tr>\n",
       "  </thead>\n",
       "  <tbody>\n",
       "    <tr>\n",
       "      <td>count</td>\n",
       "      <td>144629.000000</td>\n",
       "      <td>144629.000000</td>\n",
       "      <td>144453.000000</td>\n",
       "      <td>144453.000000</td>\n",
       "    </tr>\n",
       "    <tr>\n",
       "      <td>mean</td>\n",
       "      <td>37.341956</td>\n",
       "      <td>37.341956</td>\n",
       "      <td>32.736785</td>\n",
       "      <td>42.244436</td>\n",
       "    </tr>\n",
       "    <tr>\n",
       "      <td>std</td>\n",
       "      <td>25.183017</td>\n",
       "      <td>25.183017</td>\n",
       "      <td>24.231769</td>\n",
       "      <td>26.172356</td>\n",
       "    </tr>\n",
       "    <tr>\n",
       "      <td>min</td>\n",
       "      <td>0.000000</td>\n",
       "      <td>0.000000</td>\n",
       "      <td>0.000000</td>\n",
       "      <td>1.400000</td>\n",
       "    </tr>\n",
       "    <tr>\n",
       "      <td>25%</td>\n",
       "      <td>15.300000</td>\n",
       "      <td>15.300000</td>\n",
       "      <td>12.000000</td>\n",
       "      <td>19.000000</td>\n",
       "    </tr>\n",
       "    <tr>\n",
       "      <td>50%</td>\n",
       "      <td>32.500000</td>\n",
       "      <td>32.500000</td>\n",
       "      <td>26.900000</td>\n",
       "      <td>38.500000</td>\n",
       "    </tr>\n",
       "    <tr>\n",
       "      <td>75%</td>\n",
       "      <td>56.800000</td>\n",
       "      <td>56.800000</td>\n",
       "      <td>49.100000</td>\n",
       "      <td>64.700000</td>\n",
       "    </tr>\n",
       "    <tr>\n",
       "      <td>max</td>\n",
       "      <td>100.000000</td>\n",
       "      <td>100.000000</td>\n",
       "      <td>99.600000</td>\n",
       "      <td>100.000000</td>\n",
       "    </tr>\n",
       "  </tbody>\n",
       "</table>\n",
       "</div>"
      ],
      "text/plain": [
       "          Data_Value  Data_Value_Alt  Low_Confidence_Limit  \\\n",
       "count  144629.000000   144629.000000         144453.000000   \n",
       "mean       37.341956       37.341956             32.736785   \n",
       "std        25.183017       25.183017             24.231769   \n",
       "min         0.000000        0.000000              0.000000   \n",
       "25%        15.300000       15.300000             12.000000   \n",
       "50%        32.500000       32.500000             26.900000   \n",
       "75%        56.800000       56.800000             49.100000   \n",
       "max       100.000000      100.000000             99.600000   \n",
       "\n",
       "       High_Confidence_Limit  \n",
       "count          144453.000000  \n",
       "mean               42.244436  \n",
       "std                26.172356  \n",
       "min                 1.400000  \n",
       "25%                19.000000  \n",
       "50%                38.500000  \n",
       "75%                64.700000  \n",
       "max               100.000000  "
      ]
     },
     "execution_count": 19,
     "metadata": {},
     "output_type": "execute_result"
    }
   ],
   "source": [
    "# 该数据集的数值属性有'Data_Value','Data_Value_Alt','Low_Confidence_Limit','High_Confidence_Limit'四个属性\n",
    "\n",
    "digital_data1 = ['Data_Value','Data_Value_Alt','Low_Confidence_Limit','High_Confidence_Limit']\n",
    "data[digital_data1].describe()"
   ]
  },
  {
   "cell_type": "markdown",
   "metadata": {},
   "source": [
    "Data_Value:最大值100，最小值0，四分位数[15.3,32.5,56.8]\n",
    "\n",
    "Data_Value_Alt:最大值100，最小值0，四分位数[15.3,32.5,56.8]\n",
    "\n",
    "Low_Confidence_Limit:最大值99.6，最小值0，四分位数[12,26.9,49.1]\n",
    "\n",
    "High_Confidence_Limit:最大值100，最小值1.4，四分位数[19,38.5,64.7] "
   ]
  },
  {
   "cell_type": "code",
   "execution_count": 20,
   "metadata": {},
   "outputs": [
    {
     "name": "stdout",
     "output_type": "stream",
     "text": [
      "Data_Value缺失值个数为 69833\n",
      "Data_Value_Alt缺失值个数为 69833\n",
      "Low_Confidence_Limit缺失值个数为 70009\n",
      "High_Confidence_Limit缺失值个数为 70009\n"
     ]
    }
   ],
   "source": [
    "print(\"Data_Value缺失值个数为\",data['Data_Value'].isnull().sum())\n",
    "print(\"Data_Value_Alt缺失值个数为\",data['Data_Value_Alt'].isnull().sum())\n",
    "print(\"Low_Confidence_Limit缺失值个数为\",data['Low_Confidence_Limit'].isnull().sum())\n",
    "print(\"High_Confidence_Limit缺失值个数为\",data['High_Confidence_Limit'].isnull().sum())"
   ]
  },
  {
   "cell_type": "markdown",
   "metadata": {},
   "source": [
    "### 数据可视化\n",
    "（1）绘制Data_Value的直方图、盒图、q-q图"
   ]
  },
  {
   "cell_type": "code",
   "execution_count": 21,
   "metadata": {},
   "outputs": [
    {
     "name": "stderr",
     "output_type": "stream",
     "text": [
      "C:\\ProgramData\\Anaconda3\\lib\\site-packages\\scipy\\stats\\_distn_infrastructure.py:901: RuntimeWarning: invalid value encountered in greater\n",
      "  return (a < x) & (x < b)\n",
      "C:\\ProgramData\\Anaconda3\\lib\\site-packages\\scipy\\stats\\_distn_infrastructure.py:901: RuntimeWarning: invalid value encountered in less\n",
      "  return (a < x) & (x < b)\n",
      "C:\\ProgramData\\Anaconda3\\lib\\site-packages\\scipy\\stats\\_distn_infrastructure.py:1892: RuntimeWarning: invalid value encountered in less_equal\n",
      "  cond2 = cond0 & (x <= _a)\n"
     ]
    },
    {
     "data": {
      "image/png": "[encoded data removed]",
      "text/plain": [
       "<Figure size 720x720 with 4 Axes>"
      ]
     },
     "metadata": {
      "needs_background": "light"
     },
     "output_type": "display_data"
    }
   ],
   "source": [
    "plt.figure(figsize = (10,10))\n",
    "\n",
    "#直方图\n",
    "plt.subplot(2,2,1)\n",
    "plt.title(\"Data_Value hist\")\n",
    "data['Data_Value'].hist(alpha=0.5,bins=15) #alpha透明度，bins竖条数\n",
    "\n",
    "#盒图\n",
    "plt.subplot(2,2,2)\n",
    "plt.title(\"Data_Value box\")\n",
    "data['Data_Value'].plot(kind='box',grid=True)\n",
    "\n",
    "#q-q图\n",
    "plt.subplot(2,2,3)\n",
    "stats.probplot(data['Data_Value'],dist=\"norm\",plot=plt)\n",
    "\n",
    "#去除缺失值再绘制q-q图\n",
    "plt.subplot(2,2,4)\n",
    "data_drop=pd.DataFrame(data['Data_Value'].copy(deep=True))\n",
    "data_drop = data_drop.dropna()\n",
    "stats.probplot(data_drop['Data_Value'], dist=\"norm\", plot=plt)\n",
    "\n",
    "plt.show()"
   ]
  },
  {
   "cell_type": "markdown",
   "metadata": {},
   "source": [
    "（2）绘制Data_Value_Alt的直方图、盒图、q-q图"
   ]
  },
  {
   "cell_type": "code",
   "execution_count": 22,
   "metadata": {},
   "outputs": [
    {
     "name": "stderr",
     "output_type": "stream",
     "text": [
      "C:\\ProgramData\\Anaconda3\\lib\\site-packages\\scipy\\stats\\_distn_infrastructure.py:901: RuntimeWarning: invalid value encountered in greater\n",
      "  return (a < x) & (x < b)\n",
      "C:\\ProgramData\\Anaconda3\\lib\\site-packages\\scipy\\stats\\_distn_infrastructure.py:901: RuntimeWarning: invalid value encountered in less\n",
      "  return (a < x) & (x < b)\n",
      "C:\\ProgramData\\Anaconda3\\lib\\site-packages\\scipy\\stats\\_distn_infrastructure.py:1892: RuntimeWarning: invalid value encountered in less_equal\n",
      "  cond2 = cond0 & (x <= _a)\n"
     ]
    },
    {
     "data": {
      "image/png": "[encoded data removed]",
      "text/plain": [
       "<Figure size 720x720 with 4 Axes>"
      ]
     },
     "metadata": {
      "needs_background": "light"
     },
     "output_type": "display_data"
    }
   ],
   "source": [
    "plt.figure(figsize = (10,10))\n",
    "\n",
    "#直方图\n",
    "plt.subplot(2,2,1)\n",
    "plt.title(\"Data_Value_Alt hist\")\n",
    "data['Data_Value_Alt'].hist(alpha=0.5,bins=15) #alpha透明度，bins竖条数\n",
    "\n",
    "#盒图\n",
    "plt.subplot(2,2,2)\n",
    "plt.title(\"Data_Value_Alt box\")\n",
    "data['Data_Value_Alt'].plot(kind='box',grid=True)\n",
    "\n",
    "#q-q图\n",
    "plt.subplot(2,2,3)\n",
    "stats.probplot(data['Data_Value_Alt'],dist=\"norm\",plot=plt)\n",
    "\n",
    "#去除缺失值再绘制q-q图\n",
    "plt.subplot(2,2,4)\n",
    "data_drop=pd.DataFrame(data['Data_Value_Alt'].copy(deep=True))\n",
    "data_drop = data_drop.dropna()\n",
    "stats.probplot(data_drop['Data_Value_Alt'], dist=\"norm\", plot=plt)\n",
    "\n",
    "plt.show()"
   ]
  },
  {
   "cell_type": "markdown",
   "metadata": {},
   "source": [
    "（3）绘制Low_Confidence_Limit的直方图、盒图、q-q图"
   ]
  },
  {
   "cell_type": "code",
   "execution_count": 23,
   "metadata": {},
   "outputs": [
    {
     "name": "stderr",
     "output_type": "stream",
     "text": [
      "C:\\ProgramData\\Anaconda3\\lib\\site-packages\\scipy\\stats\\_distn_infrastructure.py:901: RuntimeWarning: invalid value encountered in greater\n",
      "  return (a < x) & (x < b)\n",
      "C:\\ProgramData\\Anaconda3\\lib\\site-packages\\scipy\\stats\\_distn_infrastructure.py:901: RuntimeWarning: invalid value encountered in less\n",
      "  return (a < x) & (x < b)\n",
      "C:\\ProgramData\\Anaconda3\\lib\\site-packages\\scipy\\stats\\_distn_infrastructure.py:1892: RuntimeWarning: invalid value encountered in less_equal\n",
      "  cond2 = cond0 & (x <= _a)\n"
     ]
    },
    {
     "data": {
      "image/png": "[encoded data removed]",
      "text/plain": [
       "<Figure size 720x720 with 4 Axes>"
      ]
     },
     "metadata": {
      "needs_background": "light"
     },
     "output_type": "display_data"
    }
   ],
   "source": [
    "plt.figure(figsize = (10,10))\n",
    "\n",
    "#直方图\n",
    "plt.subplot(2,2,1)\n",
    "plt.title(\"Low_Confidence_Limit hist\")\n",
    "data['Low_Confidence_Limit'].hist(alpha=0.5,bins=15) #alpha透明度，bins竖条数\n",
    "\n",
    "#盒图\n",
    "plt.subplot(2,2,2)\n",
    "plt.title(\"Low_Confidence_Limit box\")\n",
    "data['Low_Confidence_Limit'].plot(kind='box',grid=True)\n",
    "\n",
    "#q-q图\n",
    "plt.subplot(2,2,3)\n",
    "stats.probplot(data['Low_Confidence_Limit'],dist=\"norm\",plot=plt)\n",
    "\n",
    "#去除缺失值再绘制q-q图\n",
    "plt.subplot(2,2,4)\n",
    "data_drop=pd.DataFrame(data['Low_Confidence_Limit'].copy(deep=True))\n",
    "data_drop = data_drop.dropna()\n",
    "stats.probplot(data_drop['Low_Confidence_Limit'], dist=\"norm\", plot=plt)\n",
    "\n",
    "plt.show()"
   ]
  },
  {
   "cell_type": "markdown",
   "metadata": {},
   "source": [
    "（4）绘制High_Confidence_Limit的直方图、盒图、q-q图"
   ]
  },
  {
   "cell_type": "code",
   "execution_count": 24,
   "metadata": {},
   "outputs": [
    {
     "name": "stderr",
     "output_type": "stream",
     "text": [
      "C:\\ProgramData\\Anaconda3\\lib\\site-packages\\scipy\\stats\\_distn_infrastructure.py:901: RuntimeWarning: invalid value encountered in greater\n",
      "  return (a < x) & (x < b)\n",
      "C:\\ProgramData\\Anaconda3\\lib\\site-packages\\scipy\\stats\\_distn_infrastructure.py:901: RuntimeWarning: invalid value encountered in less\n",
      "  return (a < x) & (x < b)\n",
      "C:\\ProgramData\\Anaconda3\\lib\\site-packages\\scipy\\stats\\_distn_infrastructure.py:1892: RuntimeWarning: invalid value encountered in less_equal\n",
      "  cond2 = cond0 & (x <= _a)\n"
     ]
    },
    {
     "data": {
      "image/png": "[encoded data removed]",
      "text/plain": [
       "<Figure size 720x720 with 4 Axes>"
      ]
     },
     "metadata": {
      "needs_background": "light"
     },
     "output_type": "display_data"
    }
   ],
   "source": [
    "plt.figure(figsize = (10,10))\n",
    "\n",
    "#直方图\n",
    "plt.subplot(2,2,1)\n",
    "plt.title(\"High_Confidence_Limit hist\")\n",
    "data['High_Confidence_Limit'].hist(alpha=0.5,bins=15) #alpha透明度，bins竖条数\n",
    "\n",
    "#盒图\n",
    "plt.subplot(2,2,2)\n",
    "plt.title(\"High_Confidence_Limit box\")\n",
    "data['High_Confidence_Limit'].plot(kind='box',grid=True)\n",
    "\n",
    "#q-q图\n",
    "plt.subplot(2,2,3)\n",
    "stats.probplot(data['High_Confidence_Limit'],dist=\"norm\",plot=plt)\n",
    "\n",
    "#去除缺失值再绘制q-q图\n",
    "plt.subplot(2,2,4)\n",
    "data_drop=pd.DataFrame(data['High_Confidence_Limit'].copy(deep=True))\n",
    "data_drop = data_drop.dropna()\n",
    "stats.probplot(data_drop['High_Confidence_Limit'], dist=\"norm\", plot=plt)\n",
    "\n",
    "plt.show()"
   ]
  },
  {
   "cell_type": "markdown",
   "metadata": {},
   "source": [
    "## 数据缺失处理"
   ]
  },
  {
   "cell_type": "code",
   "execution_count": 25,
   "metadata": {},
   "outputs": [
    {
     "data": {
      "text/html": [
       "<div>\n",
       "<style scoped>\n",
       "    .dataframe tbody tr th:only-of-type {\n",
       "        vertical-align: middle;\n",
       "    }\n",
       "\n",
       "    .dataframe tbody tr th {\n",
       "        vertical-align: top;\n",
       "    }\n",
       "\n",
       "    .dataframe thead th {\n",
       "        text-align: right;\n",
       "    }\n",
       "</style>\n",
       "<table border=\"1\" class=\"dataframe\">\n",
       "  <thead>\n",
       "    <tr style=\"text-align: right;\">\n",
       "      <th></th>\n",
       "      <th>missing_num</th>\n",
       "      <th>missing_percent</th>\n",
       "      <th>Types</th>\n",
       "    </tr>\n",
       "  </thead>\n",
       "  <tbody>\n",
       "    <tr>\n",
       "      <td>YearStart</td>\n",
       "      <td>0</td>\n",
       "      <td>0.000000</td>\n",
       "      <td>int64</td>\n",
       "    </tr>\n",
       "    <tr>\n",
       "      <td>YearEnd</td>\n",
       "      <td>0</td>\n",
       "      <td>0.000000</td>\n",
       "      <td>int64</td>\n",
       "    </tr>\n",
       "    <tr>\n",
       "      <td>LocationAbbr</td>\n",
       "      <td>0</td>\n",
       "      <td>0.000000</td>\n",
       "      <td>object</td>\n",
       "    </tr>\n",
       "    <tr>\n",
       "      <td>LocationDesc</td>\n",
       "      <td>0</td>\n",
       "      <td>0.000000</td>\n",
       "      <td>object</td>\n",
       "    </tr>\n",
       "    <tr>\n",
       "      <td>Datasource</td>\n",
       "      <td>0</td>\n",
       "      <td>0.000000</td>\n",
       "      <td>object</td>\n",
       "    </tr>\n",
       "    <tr>\n",
       "      <td>Class</td>\n",
       "      <td>0</td>\n",
       "      <td>0.000000</td>\n",
       "      <td>object</td>\n",
       "    </tr>\n",
       "    <tr>\n",
       "      <td>Topic</td>\n",
       "      <td>0</td>\n",
       "      <td>0.000000</td>\n",
       "      <td>object</td>\n",
       "    </tr>\n",
       "    <tr>\n",
       "      <td>Question</td>\n",
       "      <td>0</td>\n",
       "      <td>0.000000</td>\n",
       "      <td>object</td>\n",
       "    </tr>\n",
       "    <tr>\n",
       "      <td>Data_Value_Unit</td>\n",
       "      <td>0</td>\n",
       "      <td>0.000000</td>\n",
       "      <td>object</td>\n",
       "    </tr>\n",
       "    <tr>\n",
       "      <td>DataValueTypeID</td>\n",
       "      <td>0</td>\n",
       "      <td>0.000000</td>\n",
       "      <td>object</td>\n",
       "    </tr>\n",
       "    <tr>\n",
       "      <td>Data_Value_Type</td>\n",
       "      <td>0</td>\n",
       "      <td>0.000000</td>\n",
       "      <td>object</td>\n",
       "    </tr>\n",
       "    <tr>\n",
       "      <td>Data_Value</td>\n",
       "      <td>69833</td>\n",
       "      <td>32.561946</td>\n",
       "      <td>float64</td>\n",
       "    </tr>\n",
       "    <tr>\n",
       "      <td>Data_Value_Alt</td>\n",
       "      <td>69833</td>\n",
       "      <td>32.561946</td>\n",
       "      <td>float64</td>\n",
       "    </tr>\n",
       "    <tr>\n",
       "      <td>Low_Confidence_Limit</td>\n",
       "      <td>70009</td>\n",
       "      <td>32.644012</td>\n",
       "      <td>float64</td>\n",
       "    </tr>\n",
       "    <tr>\n",
       "      <td>High_Confidence_Limit</td>\n",
       "      <td>70009</td>\n",
       "      <td>32.644012</td>\n",
       "      <td>float64</td>\n",
       "    </tr>\n",
       "    <tr>\n",
       "      <td>Sample_Size</td>\n",
       "      <td>214462</td>\n",
       "      <td>100.000000</td>\n",
       "      <td>float64</td>\n",
       "    </tr>\n",
       "    <tr>\n",
       "      <td>StratificationCategory1</td>\n",
       "      <td>0</td>\n",
       "      <td>0.000000</td>\n",
       "      <td>object</td>\n",
       "    </tr>\n",
       "    <tr>\n",
       "      <td>Stratification1</td>\n",
       "      <td>0</td>\n",
       "      <td>0.000000</td>\n",
       "      <td>object</td>\n",
       "    </tr>\n",
       "    <tr>\n",
       "      <td>StratificationCategory2</td>\n",
       "      <td>27669</td>\n",
       "      <td>12.901586</td>\n",
       "      <td>object</td>\n",
       "    </tr>\n",
       "    <tr>\n",
       "      <td>Stratification2</td>\n",
       "      <td>27669</td>\n",
       "      <td>12.901586</td>\n",
       "      <td>object</td>\n",
       "    </tr>\n",
       "    <tr>\n",
       "      <td>Geolocation</td>\n",
       "      <td>23049</td>\n",
       "      <td>10.747359</td>\n",
       "      <td>object</td>\n",
       "    </tr>\n",
       "    <tr>\n",
       "      <td>ClassID</td>\n",
       "      <td>0</td>\n",
       "      <td>0.000000</td>\n",
       "      <td>object</td>\n",
       "    </tr>\n",
       "    <tr>\n",
       "      <td>TopicID</td>\n",
       "      <td>0</td>\n",
       "      <td>0.000000</td>\n",
       "      <td>object</td>\n",
       "    </tr>\n",
       "    <tr>\n",
       "      <td>QuestionID</td>\n",
       "      <td>0</td>\n",
       "      <td>0.000000</td>\n",
       "      <td>object</td>\n",
       "    </tr>\n",
       "    <tr>\n",
       "      <td>LocationID</td>\n",
       "      <td>0</td>\n",
       "      <td>0.000000</td>\n",
       "      <td>int64</td>\n",
       "    </tr>\n",
       "    <tr>\n",
       "      <td>StratificationCategoryID1</td>\n",
       "      <td>0</td>\n",
       "      <td>0.000000</td>\n",
       "      <td>object</td>\n",
       "    </tr>\n",
       "    <tr>\n",
       "      <td>StratificationID1</td>\n",
       "      <td>0</td>\n",
       "      <td>0.000000</td>\n",
       "      <td>object</td>\n",
       "    </tr>\n",
       "    <tr>\n",
       "      <td>StratificationCategoryID2</td>\n",
       "      <td>0</td>\n",
       "      <td>0.000000</td>\n",
       "      <td>object</td>\n",
       "    </tr>\n",
       "    <tr>\n",
       "      <td>StratificationID2</td>\n",
       "      <td>0</td>\n",
       "      <td>0.000000</td>\n",
       "      <td>object</td>\n",
       "    </tr>\n",
       "  </tbody>\n",
       "</table>\n",
       "</div>"
      ],
      "text/plain": [
       "                           missing_num  missing_percent    Types\n",
       "YearStart                            0         0.000000    int64\n",
       "YearEnd                              0         0.000000    int64\n",
       "LocationAbbr                         0         0.000000   object\n",
       "LocationDesc                         0         0.000000   object\n",
       "Datasource                           0         0.000000   object\n",
       "Class                                0         0.000000   object\n",
       "Topic                                0         0.000000   object\n",
       "Question                             0         0.000000   object\n",
       "Data_Value_Unit                      0         0.000000   object\n",
       "DataValueTypeID                      0         0.000000   object\n",
       "Data_Value_Type                      0         0.000000   object\n",
       "Data_Value                       69833        32.561946  float64\n",
       "Data_Value_Alt                   69833        32.561946  float64\n",
       "Low_Confidence_Limit             70009        32.644012  float64\n",
       "High_Confidence_Limit            70009        32.644012  float64\n",
       "Sample_Size                     214462       100.000000  float64\n",
       "StratificationCategory1              0         0.000000   object\n",
       "Stratification1                      0         0.000000   object\n",
       "StratificationCategory2          27669        12.901586   object\n",
       "Stratification2                  27669        12.901586   object\n",
       "Geolocation                      23049        10.747359   object\n",
       "ClassID                              0         0.000000   object\n",
       "TopicID                              0         0.000000   object\n",
       "QuestionID                           0         0.000000   object\n",
       "LocationID                           0         0.000000    int64\n",
       "StratificationCategoryID1            0         0.000000   object\n",
       "StratificationID1                    0         0.000000   object\n",
       "StratificationCategoryID2            0         0.000000   object\n",
       "StratificationID2                    0         0.000000   object"
      ]
     },
     "execution_count": 25,
     "metadata": {},
     "output_type": "execute_result"
    }
   ],
   "source": [
    "#绘制表格查看数据缺失值并检验四种方案填充后是否还有缺失值\n",
    "def missing_data(datatodel):\n",
    "    missing_num = datatodel.isnull().sum()\n",
    "    missing_percent = missing_num/datatodel.shape[0]*100\n",
    "    concat_data = pd.concat([missing_num,missing_percent],axis=1,keys=['missing_num','missing_percent'])\n",
    "    concat_data['Types'] = datatodel.dtypes\n",
    "    return concat_data\n",
    "\n",
    "missing_data(data)"
   ]
  },
  {
   "cell_type": "markdown",
   "metadata": {},
   "source": [
    "由上表可以看出，数值属性Data_Value、Data_Value_Alt、Low_Confidence_Limit、High_Confidence_Limit、Sample_Size、Geolocation存在缺失值  \n",
    "这里缺失的原因可能是由于未完全记录、遗漏或无法获取\n",
    "\n",
    "标称属性StratificationCategory2、Stratification2存在缺失值  \n",
    "由于可能不存在用于分层的第二类，因此以上两个属性存在正常缺失情况，无需进行缺失值处理"
   ]
  },
  {
   "cell_type": "markdown",
   "metadata": {},
   "source": [
    "### 方案一 缺失值剔除"
   ]
  },
  {
   "cell_type": "code",
   "execution_count": 26,
   "metadata": {},
   "outputs": [
    {
     "data": {
      "text/html": [
       "<div>\n",
       "<style scoped>\n",
       "    .dataframe tbody tr th:only-of-type {\n",
       "        vertical-align: middle;\n",
       "    }\n",
       "\n",
       "    .dataframe tbody tr th {\n",
       "        vertical-align: top;\n",
       "    }\n",
       "\n",
       "    .dataframe thead th {\n",
       "        text-align: right;\n",
       "    }\n",
       "</style>\n",
       "<table border=\"1\" class=\"dataframe\">\n",
       "  <thead>\n",
       "    <tr style=\"text-align: right;\">\n",
       "      <th></th>\n",
       "      <th>missing_num</th>\n",
       "      <th>missing_percent</th>\n",
       "      <th>Types</th>\n",
       "    </tr>\n",
       "  </thead>\n",
       "  <tbody>\n",
       "    <tr>\n",
       "      <td>YearStart</td>\n",
       "      <td>0</td>\n",
       "      <td>0.0</td>\n",
       "      <td>int64</td>\n",
       "    </tr>\n",
       "    <tr>\n",
       "      <td>YearEnd</td>\n",
       "      <td>0</td>\n",
       "      <td>0.0</td>\n",
       "      <td>int64</td>\n",
       "    </tr>\n",
       "    <tr>\n",
       "      <td>LocationAbbr</td>\n",
       "      <td>0</td>\n",
       "      <td>0.0</td>\n",
       "      <td>object</td>\n",
       "    </tr>\n",
       "    <tr>\n",
       "      <td>LocationDesc</td>\n",
       "      <td>0</td>\n",
       "      <td>0.0</td>\n",
       "      <td>object</td>\n",
       "    </tr>\n",
       "    <tr>\n",
       "      <td>Datasource</td>\n",
       "      <td>0</td>\n",
       "      <td>0.0</td>\n",
       "      <td>object</td>\n",
       "    </tr>\n",
       "    <tr>\n",
       "      <td>Class</td>\n",
       "      <td>0</td>\n",
       "      <td>0.0</td>\n",
       "      <td>object</td>\n",
       "    </tr>\n",
       "    <tr>\n",
       "      <td>Topic</td>\n",
       "      <td>0</td>\n",
       "      <td>0.0</td>\n",
       "      <td>object</td>\n",
       "    </tr>\n",
       "    <tr>\n",
       "      <td>Question</td>\n",
       "      <td>0</td>\n",
       "      <td>0.0</td>\n",
       "      <td>object</td>\n",
       "    </tr>\n",
       "    <tr>\n",
       "      <td>Data_Value_Unit</td>\n",
       "      <td>0</td>\n",
       "      <td>0.0</td>\n",
       "      <td>object</td>\n",
       "    </tr>\n",
       "    <tr>\n",
       "      <td>DataValueTypeID</td>\n",
       "      <td>0</td>\n",
       "      <td>0.0</td>\n",
       "      <td>object</td>\n",
       "    </tr>\n",
       "    <tr>\n",
       "      <td>Data_Value_Type</td>\n",
       "      <td>0</td>\n",
       "      <td>0.0</td>\n",
       "      <td>object</td>\n",
       "    </tr>\n",
       "    <tr>\n",
       "      <td>Data_Value</td>\n",
       "      <td>0</td>\n",
       "      <td>0.0</td>\n",
       "      <td>float64</td>\n",
       "    </tr>\n",
       "    <tr>\n",
       "      <td>Data_Value_Alt</td>\n",
       "      <td>0</td>\n",
       "      <td>0.0</td>\n",
       "      <td>float64</td>\n",
       "    </tr>\n",
       "    <tr>\n",
       "      <td>Low_Confidence_Limit</td>\n",
       "      <td>0</td>\n",
       "      <td>0.0</td>\n",
       "      <td>float64</td>\n",
       "    </tr>\n",
       "    <tr>\n",
       "      <td>High_Confidence_Limit</td>\n",
       "      <td>0</td>\n",
       "      <td>0.0</td>\n",
       "      <td>float64</td>\n",
       "    </tr>\n",
       "    <tr>\n",
       "      <td>StratificationCategory1</td>\n",
       "      <td>0</td>\n",
       "      <td>0.0</td>\n",
       "      <td>object</td>\n",
       "    </tr>\n",
       "    <tr>\n",
       "      <td>Stratification1</td>\n",
       "      <td>0</td>\n",
       "      <td>0.0</td>\n",
       "      <td>object</td>\n",
       "    </tr>\n",
       "    <tr>\n",
       "      <td>StratificationCategory2</td>\n",
       "      <td>0</td>\n",
       "      <td>0.0</td>\n",
       "      <td>object</td>\n",
       "    </tr>\n",
       "    <tr>\n",
       "      <td>Stratification2</td>\n",
       "      <td>0</td>\n",
       "      <td>0.0</td>\n",
       "      <td>object</td>\n",
       "    </tr>\n",
       "    <tr>\n",
       "      <td>Geolocation</td>\n",
       "      <td>0</td>\n",
       "      <td>0.0</td>\n",
       "      <td>object</td>\n",
       "    </tr>\n",
       "    <tr>\n",
       "      <td>ClassID</td>\n",
       "      <td>0</td>\n",
       "      <td>0.0</td>\n",
       "      <td>object</td>\n",
       "    </tr>\n",
       "    <tr>\n",
       "      <td>TopicID</td>\n",
       "      <td>0</td>\n",
       "      <td>0.0</td>\n",
       "      <td>object</td>\n",
       "    </tr>\n",
       "    <tr>\n",
       "      <td>QuestionID</td>\n",
       "      <td>0</td>\n",
       "      <td>0.0</td>\n",
       "      <td>object</td>\n",
       "    </tr>\n",
       "    <tr>\n",
       "      <td>LocationID</td>\n",
       "      <td>0</td>\n",
       "      <td>0.0</td>\n",
       "      <td>int64</td>\n",
       "    </tr>\n",
       "    <tr>\n",
       "      <td>StratificationCategoryID1</td>\n",
       "      <td>0</td>\n",
       "      <td>0.0</td>\n",
       "      <td>object</td>\n",
       "    </tr>\n",
       "    <tr>\n",
       "      <td>StratificationID1</td>\n",
       "      <td>0</td>\n",
       "      <td>0.0</td>\n",
       "      <td>object</td>\n",
       "    </tr>\n",
       "    <tr>\n",
       "      <td>StratificationCategoryID2</td>\n",
       "      <td>0</td>\n",
       "      <td>0.0</td>\n",
       "      <td>object</td>\n",
       "    </tr>\n",
       "    <tr>\n",
       "      <td>StratificationID2</td>\n",
       "      <td>0</td>\n",
       "      <td>0.0</td>\n",
       "      <td>object</td>\n",
       "    </tr>\n",
       "  </tbody>\n",
       "</table>\n",
       "</div>"
      ],
      "text/plain": [
       "                           missing_num  missing_percent    Types\n",
       "YearStart                            0              0.0    int64\n",
       "YearEnd                              0              0.0    int64\n",
       "LocationAbbr                         0              0.0   object\n",
       "LocationDesc                         0              0.0   object\n",
       "Datasource                           0              0.0   object\n",
       "Class                                0              0.0   object\n",
       "Topic                                0              0.0   object\n",
       "Question                             0              0.0   object\n",
       "Data_Value_Unit                      0              0.0   object\n",
       "DataValueTypeID                      0              0.0   object\n",
       "Data_Value_Type                      0              0.0   object\n",
       "Data_Value                           0              0.0  float64\n",
       "Data_Value_Alt                       0              0.0  float64\n",
       "Low_Confidence_Limit                 0              0.0  float64\n",
       "High_Confidence_Limit                0              0.0  float64\n",
       "StratificationCategory1              0              0.0   object\n",
       "Stratification1                      0              0.0   object\n",
       "StratificationCategory2              0              0.0   object\n",
       "Stratification2                      0              0.0   object\n",
       "Geolocation                          0              0.0   object\n",
       "ClassID                              0              0.0   object\n",
       "TopicID                              0              0.0   object\n",
       "QuestionID                           0              0.0   object\n",
       "LocationID                           0              0.0    int64\n",
       "StratificationCategoryID1            0              0.0   object\n",
       "StratificationID1                    0              0.0   object\n",
       "StratificationCategoryID2            0              0.0   object\n",
       "StratificationID2                    0              0.0   object"
      ]
     },
     "execution_count": 26,
     "metadata": {},
     "output_type": "execute_result"
    }
   ],
   "source": [
    "del_null_data = data.copy(deep=True)\n",
    "del_null_data.pop('Sample_Size')\n",
    "del_null_data = del_null_data.dropna()\n",
    "#处理缺失数据后的数据展示\n",
    "missing_data(del_null_data)"
   ]
  },
  {
   "cell_type": "markdown",
   "metadata": {},
   "source": [
    "+ 新旧数据集对比"
   ]
  },
  {
   "cell_type": "code",
   "execution_count": 27,
   "metadata": {},
   "outputs": [
    {
     "name": "stderr",
     "output_type": "stream",
     "text": [
      "C:\\ProgramData\\Anaconda3\\lib\\site-packages\\scipy\\stats\\_distn_infrastructure.py:901: RuntimeWarning: invalid value encountered in greater\n",
      "  return (a < x) & (x < b)\n",
      "C:\\ProgramData\\Anaconda3\\lib\\site-packages\\scipy\\stats\\_distn_infrastructure.py:901: RuntimeWarning: invalid value encountered in less\n",
      "  return (a < x) & (x < b)\n",
      "C:\\ProgramData\\Anaconda3\\lib\\site-packages\\scipy\\stats\\_distn_infrastructure.py:1892: RuntimeWarning: invalid value encountered in less_equal\n",
      "  cond2 = cond0 & (x <= _a)\n"
     ]
    },
    {
     "data": {
      "image/png": "[encoded data removed]",
      "text/plain": [
       "<Figure size 720x720 with 6 Axes>"
      ]
     },
     "metadata": {
      "needs_background": "light"
     },
     "output_type": "display_data"
    }
   ],
   "source": [
    "plt.figure(figsize = (10,10))\n",
    "\n",
    "#直方图\n",
    "plt.subplot(3,2,1)\n",
    "plt.title(\"Data_Value hist\")\n",
    "data['Data_Value'].hist(alpha=0.5,bins=15)\n",
    "\n",
    "plt.subplot(3,2,2)\n",
    "plt.title(\"new Data_Value hist\")\n",
    "del_null_data['Data_Value'].hist(alpha=0.5,bins=15)\n",
    "\n",
    "\n",
    "#盒图\n",
    "plt.subplot(3,2,3)\n",
    "plt.title(\"Data_Value box\")\n",
    "data['Data_Value'].plot(kind='box',grid=True)\n",
    "\n",
    "plt.subplot(3,2,4)\n",
    "plt.title(\"new Data_Value box\")\n",
    "del_null_data['Data_Value'].plot(kind='box',grid=True)\n",
    "\n",
    "#q-q图\n",
    "plt.subplot(3,2,5)\n",
    "stats.probplot(data['Data_Value'],dist=\"norm\",plot=plt)\n",
    "\n",
    "plt.subplot(3,2,6)\n",
    "stats.probplot(del_null_data['Data_Value'],dist=\"norm\",plot=plt)\n",
    "\n",
    "plt.show()"
   ]
  },
  {
   "cell_type": "code",
   "execution_count": 28,
   "metadata": {},
   "outputs": [
    {
     "name": "stderr",
     "output_type": "stream",
     "text": [
      "C:\\ProgramData\\Anaconda3\\lib\\site-packages\\scipy\\stats\\_distn_infrastructure.py:901: RuntimeWarning: invalid value encountered in greater\n",
      "  return (a < x) & (x < b)\n",
      "C:\\ProgramData\\Anaconda3\\lib\\site-packages\\scipy\\stats\\_distn_infrastructure.py:901: RuntimeWarning: invalid value encountered in less\n",
      "  return (a < x) & (x < b)\n",
      "C:\\ProgramData\\Anaconda3\\lib\\site-packages\\scipy\\stats\\_distn_infrastructure.py:1892: RuntimeWarning: invalid value encountered in less_equal\n",
      "  cond2 = cond0 & (x <= _a)\n"
     ]
    },
    {
     "data": {
      "image/png": "[encoded data removed]",
      "text/plain": [
       "<Figure size 720x720 with 6 Axes>"
      ]
     },
     "metadata": {
      "needs_background": "light"
     },
     "output_type": "display_data"
    }
   ],
   "source": [
    "plt.figure(figsize = (10,10))\n",
    "\n",
    "#直方图\n",
    "plt.subplot(3,2,1)\n",
    "plt.title(\"Low_Confidence_Limit hist\")\n",
    "data['Low_Confidence_Limit'].hist(alpha=0.5,bins=15)\n",
    "\n",
    "plt.subplot(3,2,2)\n",
    "plt.title(\"new Low_Confidence_Limit hist\")\n",
    "del_null_data['Low_Confidence_Limit'].hist(alpha=0.5,bins=15)\n",
    "\n",
    "\n",
    "#盒图\n",
    "plt.subplot(3,2,3)\n",
    "plt.title(\"Low_Confidence_Limit box\")\n",
    "data['Low_Confidence_Limit'].plot(kind='box',grid=True)\n",
    "\n",
    "plt.subplot(3,2,4)\n",
    "plt.title(\"new Low_Confidence_Limit box\")\n",
    "del_null_data['Low_Confidence_Limit'].plot(kind='box',grid=True)\n",
    "\n",
    "#q-q图\n",
    "plt.subplot(3,2,5)\n",
    "stats.probplot(data['Low_Confidence_Limit'],dist=\"norm\",plot=plt)\n",
    "\n",
    "plt.subplot(3,2,6)\n",
    "stats.probplot(del_null_data['Low_Confidence_Limit'],dist=\"norm\",plot=plt)\n",
    "\n",
    "plt.show()"
   ]
  },
  {
   "cell_type": "code",
   "execution_count": 29,
   "metadata": {},
   "outputs": [
    {
     "name": "stderr",
     "output_type": "stream",
     "text": [
      "C:\\ProgramData\\Anaconda3\\lib\\site-packages\\scipy\\stats\\_distn_infrastructure.py:901: RuntimeWarning: invalid value encountered in greater\n",
      "  return (a < x) & (x < b)\n",
      "C:\\ProgramData\\Anaconda3\\lib\\site-packages\\scipy\\stats\\_distn_infrastructure.py:901: RuntimeWarning: invalid value encountered in less\n",
      "  return (a < x) & (x < b)\n",
      "C:\\ProgramData\\Anaconda3\\lib\\site-packages\\scipy\\stats\\_distn_infrastructure.py:1892: RuntimeWarning: invalid value encountered in less_equal\n",
      "  cond2 = cond0 & (x <= _a)\n"
     ]
    },
    {
     "data": {
      "image/png": "[encoded data removed]",
      "text/plain": [
       "<Figure size 720x720 with 6 Axes>"
      ]
     },
     "metadata": {
      "needs_background": "light"
     },
     "output_type": "display_data"
    }
   ],
   "source": [
    "plt.figure(figsize = (10,10))\n",
    "\n",
    "#直方图\n",
    "plt.subplot(3,2,1)\n",
    "plt.title(\"High_Confidence_Limit hist\")\n",
    "data['High_Confidence_Limit'].hist(alpha=0.5,bins=15)\n",
    "\n",
    "plt.subplot(3,2,2)\n",
    "plt.title(\"new High_Confidence_Limit hist\")\n",
    "del_null_data['High_Confidence_Limit'].hist(alpha=0.5,bins=15)\n",
    "\n",
    "\n",
    "#盒图\n",
    "plt.subplot(3,2,3)\n",
    "plt.title(\"High_Confidence_Limit box\")\n",
    "data['High_Confidence_Limit'].plot(kind='box',grid=True)\n",
    "\n",
    "plt.subplot(3,2,4)\n",
    "plt.title(\"new High_Confidence_Limit box\")\n",
    "del_null_data['High_Confidence_Limit'].plot(kind='box',grid=True)\n",
    "\n",
    "#q-q图\n",
    "plt.subplot(3,2,5)\n",
    "stats.probplot(data['High_Confidence_Limit'],dist=\"norm\",plot=plt)\n",
    "\n",
    "plt.subplot(3,2,6)\n",
    "stats.probplot(del_null_data['High_Confidence_Limit'],dist=\"norm\",plot=plt)\n",
    "\n",
    "plt.show()"
   ]
  },
  {
   "cell_type": "code",
   "execution_count": 30,
   "metadata": {},
   "outputs": [
    {
     "data": {
      "text/html": [
       "<div>\n",
       "<style scoped>\n",
       "    .dataframe tbody tr th:only-of-type {\n",
       "        vertical-align: middle;\n",
       "    }\n",
       "\n",
       "    .dataframe tbody tr th {\n",
       "        vertical-align: top;\n",
       "    }\n",
       "\n",
       "    .dataframe thead th {\n",
       "        text-align: right;\n",
       "    }\n",
       "</style>\n",
       "<table border=\"1\" class=\"dataframe\">\n",
       "  <thead>\n",
       "    <tr style=\"text-align: right;\">\n",
       "      <th></th>\n",
       "      <th>Data_Value</th>\n",
       "      <th>Low_Confidence_Limit</th>\n",
       "      <th>High_Confidence_Limit</th>\n",
       "    </tr>\n",
       "  </thead>\n",
       "  <tbody>\n",
       "    <tr>\n",
       "      <td>count</td>\n",
       "      <td>97238.000000</td>\n",
       "      <td>97238.000000</td>\n",
       "      <td>97238.000000</td>\n",
       "    </tr>\n",
       "    <tr>\n",
       "      <td>mean</td>\n",
       "      <td>37.663025</td>\n",
       "      <td>32.702959</td>\n",
       "      <td>42.807160</td>\n",
       "    </tr>\n",
       "    <tr>\n",
       "      <td>std</td>\n",
       "      <td>25.306987</td>\n",
       "      <td>24.236990</td>\n",
       "      <td>26.313108</td>\n",
       "    </tr>\n",
       "    <tr>\n",
       "      <td>min</td>\n",
       "      <td>1.000000</td>\n",
       "      <td>0.600000</td>\n",
       "      <td>1.700000</td>\n",
       "    </tr>\n",
       "    <tr>\n",
       "      <td>25%</td>\n",
       "      <td>15.500000</td>\n",
       "      <td>12.100000</td>\n",
       "      <td>19.400000</td>\n",
       "    </tr>\n",
       "    <tr>\n",
       "      <td>50%</td>\n",
       "      <td>32.900000</td>\n",
       "      <td>26.700000</td>\n",
       "      <td>39.500000</td>\n",
       "    </tr>\n",
       "    <tr>\n",
       "      <td>75%</td>\n",
       "      <td>57.400000</td>\n",
       "      <td>49.300000</td>\n",
       "      <td>65.300000</td>\n",
       "    </tr>\n",
       "    <tr>\n",
       "      <td>max</td>\n",
       "      <td>99.900000</td>\n",
       "      <td>99.600000</td>\n",
       "      <td>100.000000</td>\n",
       "    </tr>\n",
       "  </tbody>\n",
       "</table>\n",
       "</div>"
      ],
      "text/plain": [
       "         Data_Value  Low_Confidence_Limit  High_Confidence_Limit\n",
       "count  97238.000000          97238.000000           97238.000000\n",
       "mean      37.663025             32.702959              42.807160\n",
       "std       25.306987             24.236990              26.313108\n",
       "min        1.000000              0.600000               1.700000\n",
       "25%       15.500000             12.100000              19.400000\n",
       "50%       32.900000             26.700000              39.500000\n",
       "75%       57.400000             49.300000              65.300000\n",
       "max       99.900000             99.600000             100.000000"
      ]
     },
     "execution_count": 30,
     "metadata": {},
     "output_type": "execute_result"
    }
   ],
   "source": [
    "del_null_data[['Data_Value','Low_Confidence_Limit','High_Confidence_Limit']].describe()  #缺失部分剔除后数据的5数概况"
   ]
  },
  {
   "cell_type": "markdown",
   "metadata": {},
   "source": [
    "### 方案二 用最高频率值来填补缺失值"
   ]
  },
  {
   "cell_type": "code",
   "execution_count": 31,
   "metadata": {},
   "outputs": [],
   "source": [
    "#用最高频率来填补缺失值--此处使用深拷贝，否则会改变原值\n",
    "fill_data_with_most_frequency = data.copy(deep=True)\n",
    "#对'Data_Value'进行最高频率值填补缺失值\n",
    "word_counts = Counter(fill_data_with_most_frequency['Data_Value'])\n",
    "top = word_counts.most_common(1)[0][0]\n",
    "fill_data_with_most_frequency['Data_Value'] = fill_data_with_most_frequency['Data_Value'].fillna(top)\n",
    "\n",
    "\n",
    "#对'Low_Confidence_Limit'进行最高频率值填补缺失值\n",
    "word_counts = Counter(fill_data_with_most_frequency['Low_Confidence_Limit'])\n",
    "top = word_counts.most_common(1)[0][0]\n",
    "fill_data_with_most_frequency['Low_Confidence_Limit'] = fill_data_with_most_frequency['Low_Confidence_Limit'].fillna(top)\n",
    "\n",
    "\n",
    "#对'High_Confidence_Limit'进行最高频率值填补缺失值\n",
    "word_counts = Counter(fill_data_with_most_frequency['High_Confidence_Limit'])\n",
    "top = word_counts.most_common(1)[0][0]\n",
    "fill_data_with_most_frequency['High_Confidence_Limit'] = fill_data_with_most_frequency['High_Confidence_Limit'].fillna(top)\n"
   ]
  },
  {
   "cell_type": "markdown",
   "metadata": {},
   "source": [
    "+ 新旧数据集对比"
   ]
  },
  {
   "cell_type": "code",
   "execution_count": 32,
   "metadata": {},
   "outputs": [
    {
     "name": "stderr",
     "output_type": "stream",
     "text": [
      "C:\\ProgramData\\Anaconda3\\lib\\site-packages\\scipy\\stats\\_distn_infrastructure.py:901: RuntimeWarning: invalid value encountered in greater\n",
      "  return (a < x) & (x < b)\n",
      "C:\\ProgramData\\Anaconda3\\lib\\site-packages\\scipy\\stats\\_distn_infrastructure.py:901: RuntimeWarning: invalid value encountered in less\n",
      "  return (a < x) & (x < b)\n",
      "C:\\ProgramData\\Anaconda3\\lib\\site-packages\\scipy\\stats\\_distn_infrastructure.py:1892: RuntimeWarning: invalid value encountered in less_equal\n",
      "  cond2 = cond0 & (x <= _a)\n"
     ]
    },
    {
     "data": {
      "image/png": "[encoded data removed]",
      "text/plain": [
       "<Figure size 720x720 with 6 Axes>"
      ]
     },
     "metadata": {
      "needs_background": "light"
     },
     "output_type": "display_data"
    }
   ],
   "source": [
    "plt.figure(figsize = (10,10))\n",
    "\n",
    "#直方图\n",
    "plt.subplot(3,2,1)\n",
    "plt.title(\"Data_Value hist\")\n",
    "data['Data_Value'].hist(alpha=0.5,bins=15)\n",
    "\n",
    "plt.subplot(3,2,2)\n",
    "plt.title(\"new Data_Value hist\")\n",
    "del_null_data['Data_Value'].hist(alpha=0.5,bins=15)\n",
    "\n",
    "\n",
    "#盒图\n",
    "plt.subplot(3,2,3)\n",
    "plt.title(\"Data_Value box\")\n",
    "data['Data_Value'].plot(kind='box',grid=True)\n",
    "\n",
    "plt.subplot(3,2,4)\n",
    "plt.title(\"new Data_Value box\")\n",
    "del_null_data['Data_Value'].plot(kind='box',grid=True)\n",
    "\n",
    "#q-q图\n",
    "plt.subplot(3,2,5)\n",
    "stats.probplot(data['Data_Value'],dist=\"norm\",plot=plt)\n",
    "\n",
    "plt.subplot(3,2,6)\n",
    "stats.probplot(del_null_data['Data_Value'],dist=\"norm\",plot=plt)\n",
    "\n",
    "plt.show()"
   ]
  },
  {
   "cell_type": "code",
   "execution_count": 33,
   "metadata": {},
   "outputs": [
    {
     "name": "stderr",
     "output_type": "stream",
     "text": [
      "C:\\ProgramData\\Anaconda3\\lib\\site-packages\\scipy\\stats\\_distn_infrastructure.py:901: RuntimeWarning: invalid value encountered in greater\n",
      "  return (a < x) & (x < b)\n",
      "C:\\ProgramData\\Anaconda3\\lib\\site-packages\\scipy\\stats\\_distn_infrastructure.py:901: RuntimeWarning: invalid value encountered in less\n",
      "  return (a < x) & (x < b)\n",
      "C:\\ProgramData\\Anaconda3\\lib\\site-packages\\scipy\\stats\\_distn_infrastructure.py:1892: RuntimeWarning: invalid value encountered in less_equal\n",
      "  cond2 = cond0 & (x <= _a)\n"
     ]
    },
    {
     "data": {
      "image/png": "[encoded data removed]",
      "text/plain": [
       "<Figure size 720x720 with 6 Axes>"
      ]
     },
     "metadata": {
      "needs_background": "light"
     },
     "output_type": "display_data"
    }
   ],
   "source": [
    "plt.figure(figsize = (10,10))\n",
    "\n",
    "#直方图\n",
    "plt.subplot(3,2,1)\n",
    "plt.title(\"Low_Confidence_Limit hist\")\n",
    "data['Low_Confidence_Limit'].hist(alpha=0.5,bins=15)\n",
    "\n",
    "plt.subplot(3,2,2)\n",
    "plt.title(\"new Low_Confidence_Limit hist\")\n",
    "del_null_data['Low_Confidence_Limit'].hist(alpha=0.5,bins=15)\n",
    "\n",
    "\n",
    "#盒图\n",
    "plt.subplot(3,2,3)\n",
    "plt.title(\"Low_Confidence_Limit box\")\n",
    "data['Low_Confidence_Limit'].plot(kind='box',grid=True)\n",
    "\n",
    "plt.subplot(3,2,4)\n",
    "plt.title(\"new Low_Confidence_Limit box\")\n",
    "del_null_data['Low_Confidence_Limit'].plot(kind='box',grid=True)\n",
    "\n",
    "#q-q图\n",
    "plt.subplot(3,2,5)\n",
    "stats.probplot(data['Low_Confidence_Limit'],dist=\"norm\",plot=plt)\n",
    "\n",
    "plt.subplot(3,2,6)\n",
    "stats.probplot(del_null_data['Low_Confidence_Limit'],dist=\"norm\",plot=plt)\n",
    "\n",
    "plt.show()"
   ]
  },
  {
   "cell_type": "code",
   "execution_count": 34,
   "metadata": {},
   "outputs": [
    {
     "name": "stderr",
     "output_type": "stream",
     "text": [
      "C:\\ProgramData\\Anaconda3\\lib\\site-packages\\scipy\\stats\\_distn_infrastructure.py:901: RuntimeWarning: invalid value encountered in greater\n",
      "  return (a < x) & (x < b)\n",
      "C:\\ProgramData\\Anaconda3\\lib\\site-packages\\scipy\\stats\\_distn_infrastructure.py:901: RuntimeWarning: invalid value encountered in less\n",
      "  return (a < x) & (x < b)\n",
      "C:\\ProgramData\\Anaconda3\\lib\\site-packages\\scipy\\stats\\_distn_infrastructure.py:1892: RuntimeWarning: invalid value encountered in less_equal\n",
      "  cond2 = cond0 & (x <= _a)\n"
     ]
    },
    {
     "data": {
      "image/png": "[encoded data removed]",
      "text/plain": [
       "<Figure size 720x720 with 6 Axes>"
      ]
     },
     "metadata": {
      "needs_background": "light"
     },
     "output_type": "display_data"
    }
   ],
   "source": [
    "plt.figure(figsize = (10,10))\n",
    "\n",
    "#直方图\n",
    "plt.subplot(3,2,1)\n",
    "plt.title(\"High_Confidence_Limit hist\")\n",
    "data['High_Confidence_Limit'].hist(alpha=0.5,bins=15)\n",
    "\n",
    "plt.subplot(3,2,2)\n",
    "plt.title(\"new High_Confidence_Limit hist\")\n",
    "del_null_data['High_Confidence_Limit'].hist(alpha=0.5,bins=15)\n",
    "\n",
    "\n",
    "#盒图\n",
    "plt.subplot(3,2,3)\n",
    "plt.title(\"High_Confidence_Limit box\")\n",
    "data['High_Confidence_Limit'].plot(kind='box',grid=True)\n",
    "\n",
    "plt.subplot(3,2,4)\n",
    "plt.title(\"new High_Confidence_Limit box\")\n",
    "del_null_data['High_Confidence_Limit'].plot(kind='box',grid=True)\n",
    "\n",
    "#q-q图\n",
    "plt.subplot(3,2,5)\n",
    "stats.probplot(data['High_Confidence_Limit'],dist=\"norm\",plot=plt)\n",
    "\n",
    "plt.subplot(3,2,6)\n",
    "stats.probplot(del_null_data['High_Confidence_Limit'],dist=\"norm\",plot=plt)\n",
    "\n",
    "plt.show()"
   ]
  },
  {
   "cell_type": "markdown",
   "metadata": {},
   "source": [
    "### 方案三 通过属性的相关关系来填补缺失值"
   ]
  },
  {
   "cell_type": "code",
   "execution_count": 35,
   "metadata": {},
   "outputs": [
    {
     "data": {
      "text/html": [
       "<div>\n",
       "<style scoped>\n",
       "    .dataframe tbody tr th:only-of-type {\n",
       "        vertical-align: middle;\n",
       "    }\n",
       "\n",
       "    .dataframe tbody tr th {\n",
       "        vertical-align: top;\n",
       "    }\n",
       "\n",
       "    .dataframe thead th {\n",
       "        text-align: right;\n",
       "    }\n",
       "</style>\n",
       "<table border=\"1\" class=\"dataframe\">\n",
       "  <thead>\n",
       "    <tr style=\"text-align: right;\">\n",
       "      <th></th>\n",
       "      <th>YearStart</th>\n",
       "      <th>YearEnd</th>\n",
       "      <th>Data_Value</th>\n",
       "      <th>Data_Value_Alt</th>\n",
       "      <th>Low_Confidence_Limit</th>\n",
       "      <th>High_Confidence_Limit</th>\n",
       "      <th>LocationID</th>\n",
       "    </tr>\n",
       "  </thead>\n",
       "  <tbody>\n",
       "    <tr>\n",
       "      <td>YearStart</td>\n",
       "      <td>1.000000</td>\n",
       "      <td>0.808550</td>\n",
       "      <td>0.040190</td>\n",
       "      <td>0.040190</td>\n",
       "      <td>0.043679</td>\n",
       "      <td>0.035203</td>\n",
       "      <td>0.006805</td>\n",
       "    </tr>\n",
       "    <tr>\n",
       "      <td>YearEnd</td>\n",
       "      <td>0.808550</td>\n",
       "      <td>1.000000</td>\n",
       "      <td>0.010573</td>\n",
       "      <td>0.010573</td>\n",
       "      <td>0.002832</td>\n",
       "      <td>0.018413</td>\n",
       "      <td>0.003154</td>\n",
       "    </tr>\n",
       "    <tr>\n",
       "      <td>Data_Value</td>\n",
       "      <td>0.040190</td>\n",
       "      <td>0.010573</td>\n",
       "      <td>1.000000</td>\n",
       "      <td>1.000000</td>\n",
       "      <td>0.983967</td>\n",
       "      <td>0.983857</td>\n",
       "      <td>-0.012051</td>\n",
       "    </tr>\n",
       "    <tr>\n",
       "      <td>Data_Value_Alt</td>\n",
       "      <td>0.040190</td>\n",
       "      <td>0.010573</td>\n",
       "      <td>1.000000</td>\n",
       "      <td>1.000000</td>\n",
       "      <td>0.983967</td>\n",
       "      <td>0.983857</td>\n",
       "      <td>-0.012051</td>\n",
       "    </tr>\n",
       "    <tr>\n",
       "      <td>Low_Confidence_Limit</td>\n",
       "      <td>0.043679</td>\n",
       "      <td>0.002832</td>\n",
       "      <td>0.983967</td>\n",
       "      <td>0.983967</td>\n",
       "      <td>1.000000</td>\n",
       "      <td>0.939058</td>\n",
       "      <td>-0.024691</td>\n",
       "    </tr>\n",
       "    <tr>\n",
       "      <td>High_Confidence_Limit</td>\n",
       "      <td>0.035203</td>\n",
       "      <td>0.018413</td>\n",
       "      <td>0.983857</td>\n",
       "      <td>0.983857</td>\n",
       "      <td>0.939058</td>\n",
       "      <td>1.000000</td>\n",
       "      <td>0.011631</td>\n",
       "    </tr>\n",
       "    <tr>\n",
       "      <td>LocationID</td>\n",
       "      <td>0.006805</td>\n",
       "      <td>0.003154</td>\n",
       "      <td>-0.012051</td>\n",
       "      <td>-0.012051</td>\n",
       "      <td>-0.024691</td>\n",
       "      <td>0.011631</td>\n",
       "      <td>1.000000</td>\n",
       "    </tr>\n",
       "  </tbody>\n",
       "</table>\n",
       "</div>"
      ],
      "text/plain": [
       "                       YearStart   YearEnd  Data_Value  Data_Value_Alt  \\\n",
       "YearStart               1.000000  0.808550    0.040190        0.040190   \n",
       "YearEnd                 0.808550  1.000000    0.010573        0.010573   \n",
       "Data_Value              0.040190  0.010573    1.000000        1.000000   \n",
       "Data_Value_Alt          0.040190  0.010573    1.000000        1.000000   \n",
       "Low_Confidence_Limit    0.043679  0.002832    0.983967        0.983967   \n",
       "High_Confidence_Limit   0.035203  0.018413    0.983857        0.983857   \n",
       "LocationID              0.006805  0.003154   -0.012051       -0.012051   \n",
       "\n",
       "                       Low_Confidence_Limit  High_Confidence_Limit  LocationID  \n",
       "YearStart                          0.043679               0.035203    0.006805  \n",
       "YearEnd                            0.002832               0.018413    0.003154  \n",
       "Data_Value                         0.983967               0.983857   -0.012051  \n",
       "Data_Value_Alt                     0.983967               0.983857   -0.012051  \n",
       "Low_Confidence_Limit               1.000000               0.939058   -0.024691  \n",
       "High_Confidence_Limit              0.939058               1.000000    0.011631  \n",
       "LocationID                        -0.024691               0.011631    1.000000  "
      ]
     },
     "execution_count": 35,
     "metadata": {},
     "output_type": "execute_result"
    }
   ],
   "source": [
    "#查看相关的属性关系\n",
    "data.pop('Sample_Size')\n",
    "data.corr()"
   ]
  },
  {
   "cell_type": "code",
   "execution_count": 36,
   "metadata": {},
   "outputs": [],
   "source": [
    "#通过属性的相关关系来填补Data_Value缺失值\n",
    "target_data = data['Data_Value'].copy(deep=True)\n",
    "source_data = data['Low_Confidence_Limit'].copy(deep=True)\n",
    "\n",
    "flag1 = target_data.isnull().values\n",
    "flag2 = source_data.isnull().values\n",
    "\n",
    "i=0\n",
    "for _,value in target_data.iteritems():\n",
    "    if(flag1[i]==True) and (flag2[i]==False):\n",
    "        target_data[i] = 5 + source_data[i]\n",
    "    i=i+1"
   ]
  },
  {
   "cell_type": "code",
   "execution_count": 37,
   "metadata": {},
   "outputs": [
    {
     "name": "stderr",
     "output_type": "stream",
     "text": [
      "C:\\ProgramData\\Anaconda3\\lib\\site-packages\\scipy\\stats\\_distn_infrastructure.py:901: RuntimeWarning: invalid value encountered in greater\n",
      "  return (a < x) & (x < b)\n",
      "C:\\ProgramData\\Anaconda3\\lib\\site-packages\\scipy\\stats\\_distn_infrastructure.py:901: RuntimeWarning: invalid value encountered in less\n",
      "  return (a < x) & (x < b)\n",
      "C:\\ProgramData\\Anaconda3\\lib\\site-packages\\scipy\\stats\\_distn_infrastructure.py:1892: RuntimeWarning: invalid value encountered in less_equal\n",
      "  cond2 = cond0 & (x <= _a)\n"
     ]
    },
    {
     "data": {
      "image/png": "[encoded data removed]",
      "text/plain": [
       "<Figure size 720x720 with 6 Axes>"
      ]
     },
     "metadata": {
      "needs_background": "light"
     },
     "output_type": "display_data"
    }
   ],
   "source": [
    "#Data_Value 可视化对比新旧数据\n",
    "\n",
    "plt.figure(figsize = (10,10))\n",
    "\n",
    "#直方图\n",
    "plt.subplot(3,2,1)\n",
    "plt.title(\"Data_Value hist\")\n",
    "data['Data_Value'].hist(alpha=0.5,bins=15) #alpha透明度，bins竖条数\n",
    "\n",
    "#直方图\n",
    "plt.subplot(3,2,2)\n",
    "plt.title(\"new Data_Value hist\")\n",
    "target_data.hist(alpha=0.5,bins=15) #alpha透明度，bins竖条数\n",
    "\n",
    "\n",
    "#盒图\n",
    "plt.subplot(3,2,3)\n",
    "plt.title(\"Data_Value box\")\n",
    "data['Data_Value'].plot(kind='box',grid=True)\n",
    "\n",
    "#盒图\n",
    "plt.subplot(3,2,4)\n",
    "plt.title(\"new Data_Value box\")\n",
    "target_data.plot(kind='box',grid=True)\n",
    "\n",
    "#q-q图\n",
    "plt.subplot(3,2,5)\n",
    "stats.probplot(data['Data_Value'],dist=\"norm\",plot=plt)\n",
    "\n",
    "plt.subplot(3,2,6)\n",
    "stats.probplot(target_data,dist=\"norm\",plot=plt)\n",
    "\n",
    "plt.show()"
   ]
  },
  {
   "cell_type": "code",
   "execution_count": 38,
   "metadata": {},
   "outputs": [
    {
     "data": {
      "text/plain": [
       "count    144629.000000\n",
       "mean         37.341956\n",
       "std          25.183017\n",
       "min           0.000000\n",
       "25%          15.300000\n",
       "50%          32.500000\n",
       "75%          56.800000\n",
       "max         100.000000\n",
       "Name: Data_Value, dtype: float64"
      ]
     },
     "execution_count": 38,
     "metadata": {},
     "output_type": "execute_result"
    }
   ],
   "source": [
    "#补充后的Data_Value数据描述\n",
    "target_data.describe()"
   ]
  },
  {
   "cell_type": "code",
   "execution_count": 39,
   "metadata": {},
   "outputs": [],
   "source": [
    "#通过属性的相关关系来填补Low_Confidence_Limit缺失值\n",
    "target_data = data['Low_Confidence_Limit'].copy(deep=True)\n",
    "source_data = data['Data_Value'].copy(deep=True)\n",
    "\n",
    "flag1 = target_data.isnull().values\n",
    "flag2 = source_data.isnull().values\n",
    "\n",
    "i=0\n",
    "for _,value in target_data.iteritems():\n",
    "    if(flag1[i]==True) and (flag2[i]==False):\n",
    "        target_data[i] = source_data[i] - 5\n",
    "        target_data[i]=max(target_data[i],0)\n",
    "    i=i+1"
   ]
  },
  {
   "cell_type": "code",
   "execution_count": 40,
   "metadata": {},
   "outputs": [
    {
     "name": "stderr",
     "output_type": "stream",
     "text": [
      "C:\\ProgramData\\Anaconda3\\lib\\site-packages\\scipy\\stats\\_distn_infrastructure.py:901: RuntimeWarning: invalid value encountered in greater\n",
      "  return (a < x) & (x < b)\n",
      "C:\\ProgramData\\Anaconda3\\lib\\site-packages\\scipy\\stats\\_distn_infrastructure.py:901: RuntimeWarning: invalid value encountered in less\n",
      "  return (a < x) & (x < b)\n",
      "C:\\ProgramData\\Anaconda3\\lib\\site-packages\\scipy\\stats\\_distn_infrastructure.py:1892: RuntimeWarning: invalid value encountered in less_equal\n",
      "  cond2 = cond0 & (x <= _a)\n"
     ]
    },
    {
     "data": {
      "image/png": "[encoded data removed]",
      "text/plain": [
       "<Figure size 720x720 with 6 Axes>"
      ]
     },
     "metadata": {
      "needs_background": "light"
     },
     "output_type": "display_data"
    }
   ],
   "source": [
    "#Low_Confidence_Limit 可视化对比新旧数据\n",
    "\n",
    "plt.figure(figsize = (10,10))\n",
    "\n",
    "#直方图\n",
    "plt.subplot(3,2,1)\n",
    "plt.title(\"Low_Confidence_Limit hist\")\n",
    "data['Low_Confidence_Limit'].hist(alpha=0.5,bins=15) #alpha透明度，bins竖条数\n",
    "\n",
    "#直方图\n",
    "plt.subplot(3,2,2)\n",
    "plt.title(\"new Low_Confidence_Limit hist\")\n",
    "target_data.hist(alpha=0.5,bins=15) #alpha透明度，bins竖条数\n",
    "\n",
    "\n",
    "#盒图\n",
    "plt.subplot(3,2,3)\n",
    "plt.title(\"Low_Confidence_Limit box\")\n",
    "data['Low_Confidence_Limit'].plot(kind='box',grid=True)\n",
    "\n",
    "#盒图\n",
    "plt.subplot(3,2,4)\n",
    "plt.title(\"new Low_Confidence_Limit box\")\n",
    "target_data.plot(kind='box',grid=True)\n",
    "\n",
    "#q-q图\n",
    "plt.subplot(3,2,5)\n",
    "stats.probplot(data['Low_Confidence_Limit'],dist=\"norm\",plot=plt)\n",
    "\n",
    "plt.subplot(3,2,6)\n",
    "stats.probplot(target_data,dist=\"norm\",plot=plt)\n",
    "\n",
    "plt.show()"
   ]
  },
  {
   "cell_type": "code",
   "execution_count": 41,
   "metadata": {},
   "outputs": [
    {
     "data": {
      "text/plain": [
       "count    144629.000000\n",
       "mean         32.709428\n",
       "std          24.251515\n",
       "min           0.000000\n",
       "25%          12.000000\n",
       "50%          26.800000\n",
       "75%          49.100000\n",
       "max          99.600000\n",
       "Name: Low_Confidence_Limit, dtype: float64"
      ]
     },
     "execution_count": 41,
     "metadata": {},
     "output_type": "execute_result"
    }
   ],
   "source": [
    "#补充后的Low_Confidence_Limit数据描述\n",
    "target_data.describe()"
   ]
  },
  {
   "cell_type": "markdown",
   "metadata": {},
   "source": [
    "### 方案四 通过数据对象之间的相似性来填补缺失值"
   ]
  },
  {
   "cell_type": "code",
   "execution_count": 42,
   "metadata": {},
   "outputs": [
    {
     "name": "stdout",
     "output_type": "stream",
     "text": [
      "空数据数量为: 69833\n",
      "填充后的空数据数量为: 0\n"
     ]
    }
   ],
   "source": [
    "numeric_attr = ['Data_Value','Low_Confidence_Limit']\n",
    "#查找两个对象间的相似性\n",
    "#如果通过暴力法求解耗时耗力\n",
    "#所以选择通过二分法查找的方法进行相似性选择\n",
    "\n",
    "def find_dis_value(dataset, pos, numeric_attr):\n",
    "    def dis_objs(tar_obj_index, sou_obj_index):\n",
    "        tar_obj = dataset.iloc[tar_obj_index]\n",
    "        sou_obj = dataset.iloc[sou_obj_index]\n",
    "        dis_value = 0\n",
    "        for column in tar_obj.index:\n",
    "            if column == 'Low_Confidence_Limit':\n",
    "                if (not math.isnan(tar_obj[column])) and (not math.isnan(sou_obj[column])):                 \n",
    "                    dis_value += sou_obj[column] - tar_obj[column]                \n",
    "                else:\n",
    "                    dis_value += 9998\n",
    "        return dis_value\n",
    "\n",
    "    \n",
    "    mindis = 9999\n",
    "    result_pos = -1\n",
    "    leftindex = 0;\n",
    "    rightindex = dataset.shape[0]-1\n",
    "    #二分查找返回最近距离的一个result_pos\n",
    "    while leftindex<=rightindex:\n",
    "        midindex = int((leftindex+rightindex)/2)\n",
    "        tmpdis = dis_objs(pos,midindex)        \n",
    "        if(tmpdis>0):\n",
    "            rightindex = midindex-1            \n",
    "        elif(tmpdis == 0):\n",
    "            result_pos = midindex\n",
    "            break;\n",
    "        else:\n",
    "            leftindex = midindex+1        \n",
    "        if(tmpdis<mindis):\n",
    "            result_pos = midindex  \n",
    "    return result_pos\n",
    "\n",
    "\n",
    "\n",
    "\n",
    "# 通过数据对象之间的相似性来填补Data_Value缺失值\n",
    "numical_datasets = pd.DataFrame(data[numeric_attr].copy(deep=True))\n",
    "\n",
    "#对numical_datasets排序\n",
    "numical_datasets.sort_values(\"Low_Confidence_Limit\",inplace=True)\n",
    "data_new = numical_datasets['Data_Value'].copy(deep=True)\n",
    "\n",
    "print('空数据数量为:',data_new.isnull().sum())\n",
    "length = numical_datasets.shape[0]\n",
    "count=1;\n",
    "for i in range(length):\n",
    "    if math.isnan(numical_datasets['Data_Value'].iloc[i]):       \n",
    "#         print('当前处理第'+str(count)+\"个\")\n",
    "#         print(i,numical_datasets.iloc[i])  \n",
    "        result_pos = find_dis_value(numical_datasets, i, numeric_attr)\n",
    "#         print(result_pos,numical_datasets.iloc[result_pos])\n",
    "        data_new.iloc[i] = data_new.iloc[result_pos]\n",
    "#         print(i,data_area_id.iloc[i])\n",
    "        count+=1\n",
    "    \n",
    "#填充后的空数据数量\n",
    "print('填充后的空数据数量为:',data_new.isnull().sum())"
   ]
  },
  {
   "cell_type": "code",
   "execution_count": 43,
   "metadata": {},
   "outputs": [
    {
     "name": "stderr",
     "output_type": "stream",
     "text": [
      "C:\\ProgramData\\Anaconda3\\lib\\site-packages\\scipy\\stats\\_distn_infrastructure.py:901: RuntimeWarning: invalid value encountered in greater\n",
      "  return (a < x) & (x < b)\n",
      "C:\\ProgramData\\Anaconda3\\lib\\site-packages\\scipy\\stats\\_distn_infrastructure.py:901: RuntimeWarning: invalid value encountered in less\n",
      "  return (a < x) & (x < b)\n",
      "C:\\ProgramData\\Anaconda3\\lib\\site-packages\\scipy\\stats\\_distn_infrastructure.py:1892: RuntimeWarning: invalid value encountered in less_equal\n",
      "  cond2 = cond0 & (x <= _a)\n"
     ]
    },
    {
     "data": {
      "image/png": "[encoded data removed]",
      "text/plain": [
       "<Figure size 720x720 with 6 Axes>"
      ]
     },
     "metadata": {
      "needs_background": "light"
     },
     "output_type": "display_data"
    }
   ],
   "source": [
    "#Data_Value可视化对比新旧数据\n",
    "\n",
    "plt.figure(figsize = (10,10))\n",
    "\n",
    "#直方图\n",
    "plt.subplot(3,2,1)\n",
    "plt.title(\"Data_Value hist\")\n",
    "data['Data_Value'].hist(alpha=0.5,bins=15) #alpha透明度，bins竖条数\n",
    "\n",
    "#直方图\n",
    "plt.subplot(3,2,2)\n",
    "plt.title(\"new Data_Value hist\")\n",
    "data_new.hist(alpha=0.5,bins=15) #alpha透明度，bins竖条数\n",
    "\n",
    "\n",
    "#盒图\n",
    "plt.subplot(3,2,3)\n",
    "plt.title(\"Data_Value box\")\n",
    "data['Data_Value'].plot(kind='box',grid=True)\n",
    "\n",
    "#盒图\n",
    "plt.subplot(3,2,4)\n",
    "plt.title(\"new Data_Value box\")\n",
    "data_new.plot(kind='box',grid=True)\n",
    "\n",
    "#q-q图\n",
    "plt.subplot(3,2,5)\n",
    "stats.probplot(data['Data_Value'],dist=\"norm\",plot=plt)\n",
    "\n",
    "plt.subplot(3,2,6)\n",
    "stats.probplot(data_new,dist=\"norm\",plot=plt)\n",
    "\n",
    "plt.show()"
   ]
  },
  {
   "cell_type": "code",
   "execution_count": 44,
   "metadata": {},
   "outputs": [
    {
     "data": {
      "text/plain": [
       "count    214462.000000\n",
       "mean         25.410622\n",
       "std          26.879596\n",
       "min           0.000000\n",
       "25%           0.700000\n",
       "50%          15.900000\n",
       "75%          42.100000\n",
       "max         100.000000\n",
       "Name: Data_Value, dtype: float64"
      ]
     },
     "execution_count": 44,
     "metadata": {},
     "output_type": "execute_result"
    }
   ],
   "source": [
    "#Data_Value的数据描述\n",
    "data_new.describe()  # #通过数据对象之间的相似性来填补后数据的5数概况"
   ]
  }
 ],
 "metadata": {
  "kernelspec": {
   "display_name": "Python 3",
   "language": "python",
   "name": "python3"
  },
  "language_info": {
   "codemirror_mode": {
    "name": "ipython",
    "version": 3
   },
   "file_extension": ".py",
   "mimetype": "text/x-python",
   "name": "python",
   "nbconvert_exporter": "python",
   "pygments_lexer": "ipython3",
   "version": "3.7.4"
  }
 },
 "nbformat": 4,
 "nbformat_minor": 5
}
