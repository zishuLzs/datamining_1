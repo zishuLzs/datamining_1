{
 "cells": [
  {
   "cell_type": "markdown",
   "metadata": {},
   "source": [
    "# 数据挖掘作业2\n",
    "## 姓名：刘子书 学号：1120201818\n",
    "### 数据集：GitHub Dataset"
   ]
  },
  {
   "cell_type": "code",
   "execution_count": 41,
   "metadata": {},
   "outputs": [],
   "source": [
    "#导入必要的包\n",
    "import matplotlib.pyplot as plt\n",
    "import pandas as pd\n",
    "import numpy as np\n",
    "from scipy import stats\n",
    "from collections import Counter\n",
    "from math import isnan\n",
    "import math\n",
    "import os"
   ]
  },
  {
   "cell_type": "markdown",
   "metadata": {},
   "source": [
    "## 查看数据集并对数据集进行了解"
   ]
  },
  {
   "cell_type": "code",
   "execution_count": 42,
   "metadata": {},
   "outputs": [
    {
     "name": "stdout",
     "output_type": "stream",
     "text": [
      "D:\\Python\\Jupyter\\datamining_1\\GitHub Dataset\\github_dataset.csv\n",
      "D:\\Python\\Jupyter\\datamining_1\\GitHub Dataset\\repository_data.csv\n"
     ]
    }
   ],
   "source": [
    "#查看当前文件夹下有哪些数据集以及数据集所处的路径\n",
    "import os\n",
    "for dirname, _, filenames in os.walk('D:\\Python\\Jupyter\\datamining_1\\GitHub Dataset'):\n",
    "    for filename in filenames:\n",
    "        print(os.path.join(dirname, filename))\n",
    "\n",
    "#数据集文件解释，这里我们拿repository_data.csv做数据分析        "
   ]
  },
  {
   "cell_type": "code",
   "execution_count": 43,
   "metadata": {},
   "outputs": [
    {
     "data": {
      "text/html": [
       "<div>\n",
       "<style scoped>\n",
       "    .dataframe tbody tr th:only-of-type {\n",
       "        vertical-align: middle;\n",
       "    }\n",
       "\n",
       "    .dataframe tbody tr th {\n",
       "        vertical-align: top;\n",
       "    }\n",
       "\n",
       "    .dataframe thead th {\n",
       "        text-align: right;\n",
       "    }\n",
       "</style>\n",
       "<table border=\"1\" class=\"dataframe\">\n",
       "  <thead>\n",
       "    <tr style=\"text-align: right;\">\n",
       "      <th></th>\n",
       "      <th>name</th>\n",
       "      <th>stars_count</th>\n",
       "      <th>forks_count</th>\n",
       "      <th>watchers</th>\n",
       "      <th>pull_requests</th>\n",
       "      <th>primary_language</th>\n",
       "      <th>languages_used</th>\n",
       "      <th>commit_count</th>\n",
       "      <th>created_at</th>\n",
       "      <th>licence</th>\n",
       "    </tr>\n",
       "  </thead>\n",
       "  <tbody>\n",
       "    <tr>\n",
       "      <td>0</td>\n",
       "      <td>freeCodeCamp</td>\n",
       "      <td>359805</td>\n",
       "      <td>30814</td>\n",
       "      <td>8448</td>\n",
       "      <td>31867</td>\n",
       "      <td>TypeScript</td>\n",
       "      <td>['TypeScript', 'JavaScript', 'CSS', 'Shell', '...</td>\n",
       "      <td>32231.00</td>\n",
       "      <td>2014-12-24T17:49:19Z</td>\n",
       "      <td>BSD 3-Clause \"New\" or \"Revised\" License</td>\n",
       "    </tr>\n",
       "    <tr>\n",
       "      <td>1</td>\n",
       "      <td>996.ICU</td>\n",
       "      <td>264811</td>\n",
       "      <td>21470</td>\n",
       "      <td>4298</td>\n",
       "      <td>1949</td>\n",
       "      <td>NaN</td>\n",
       "      <td>NaN</td>\n",
       "      <td>3189.00</td>\n",
       "      <td>2019-03-26T07:31:14Z</td>\n",
       "      <td>Other</td>\n",
       "    </tr>\n",
       "    <tr>\n",
       "      <td>2</td>\n",
       "      <td>free-programming-books</td>\n",
       "      <td>262380</td>\n",
       "      <td>53302</td>\n",
       "      <td>9544</td>\n",
       "      <td>8235</td>\n",
       "      <td>NaN</td>\n",
       "      <td>NaN</td>\n",
       "      <td>8286.00</td>\n",
       "      <td>2013-10-11T06:50:37Z</td>\n",
       "      <td>Other</td>\n",
       "    </tr>\n",
       "    <tr>\n",
       "      <td>3</td>\n",
       "      <td>coding-interview-university</td>\n",
       "      <td>244927</td>\n",
       "      <td>65038</td>\n",
       "      <td>8539</td>\n",
       "      <td>867</td>\n",
       "      <td>NaN</td>\n",
       "      <td>NaN</td>\n",
       "      <td>2314.00</td>\n",
       "      <td>2016-06-06T02:34:12Z</td>\n",
       "      <td>Creative Commons Attribution Share Alike 4.0 I...</td>\n",
       "    </tr>\n",
       "    <tr>\n",
       "      <td>4</td>\n",
       "      <td>awesome</td>\n",
       "      <td>235223</td>\n",
       "      <td>24791</td>\n",
       "      <td>7446</td>\n",
       "      <td>1859</td>\n",
       "      <td>NaN</td>\n",
       "      <td>NaN</td>\n",
       "      <td>1074.00</td>\n",
       "      <td>2014-07-11T13:42:37Z</td>\n",
       "      <td>Creative Commons Zero v1.0 Universal</td>\n",
       "    </tr>\n",
       "  </tbody>\n",
       "</table>\n",
       "</div>"
      ],
      "text/plain": [
       "                          name  stars_count  forks_count  watchers  \\\n",
       "0                 freeCodeCamp       359805        30814      8448   \n",
       "1                      996.ICU       264811        21470      4298   \n",
       "2       free-programming-books       262380        53302      9544   \n",
       "3  coding-interview-university       244927        65038      8539   \n",
       "4                      awesome       235223        24791      7446   \n",
       "\n",
       "   pull_requests primary_language  \\\n",
       "0          31867       TypeScript   \n",
       "1           1949              NaN   \n",
       "2           8235              NaN   \n",
       "3            867              NaN   \n",
       "4           1859              NaN   \n",
       "\n",
       "                                      languages_used  commit_count  \\\n",
       "0  ['TypeScript', 'JavaScript', 'CSS', 'Shell', '...      32231.00   \n",
       "1                                                NaN       3189.00   \n",
       "2                                                NaN       8286.00   \n",
       "3                                                NaN       2314.00   \n",
       "4                                                NaN       1074.00   \n",
       "\n",
       "             created_at                                            licence  \n",
       "0  2014-12-24T17:49:19Z            BSD 3-Clause \"New\" or \"Revised\" License  \n",
       "1  2019-03-26T07:31:14Z                                              Other  \n",
       "2  2013-10-11T06:50:37Z                                              Other  \n",
       "3  2016-06-06T02:34:12Z  Creative Commons Attribution Share Alike 4.0 I...  \n",
       "4  2014-07-11T13:42:37Z               Creative Commons Zero v1.0 Universal  "
      ]
     },
     "execution_count": 43,
     "metadata": {},
     "output_type": "execute_result"
    }
   ],
   "source": [
    "import os\n",
    "#读取数据集\n",
    "path = 'D:\\Python\\Jupyter\\datamining_1\\GitHub Dataset\\\\'\n",
    "data = pd.read_csv(path+'repository_data.csv',index_col=False ,low_memory=False)\n",
    "data.head()#默认展示前五行数据\n",
    "\n",
    "# 数据集的含义\n",
    "# 列名----------------含义\n",
    "# name                仓库的名字（标称）\n",
    "# stars_count         星数（数值）\n",
    "# forks_count         分支数（数值）\n",
    "# watchers            观看者（数值）\n",
    "# pull_requests       拉取请求计数（数值）\n",
    "# primary_language    主要语言（标称）\n",
    "# languages_used      使用的所有语言列表（标称）\n",
    "# commit_count        仓库提交次数（数值）\n",
    "# created_at          时间戳（标称）\n",
    "# licence             许可证（标称）"
   ]
  },
  {
   "cell_type": "code",
   "execution_count": 44,
   "metadata": {},
   "outputs": [
    {
     "data": {
      "text/plain": [
       "name                 object\n",
       "stars_count           int64\n",
       "forks_count           int64\n",
       "watchers              int64\n",
       "pull_requests         int64\n",
       "primary_language     object\n",
       "languages_used       object\n",
       "commit_count        float64\n",
       "created_at           object\n",
       "licence              object\n",
       "dtype: object"
      ]
     },
     "execution_count": 44,
     "metadata": {},
     "output_type": "execute_result"
    }
   ],
   "source": [
    "data.dtypes #每列数据的数据类型"
   ]
  },
  {
   "cell_type": "code",
   "execution_count": 45,
   "metadata": {},
   "outputs": [
    {
     "data": {
      "text/plain": [
       "(2917951, 10)"
      ]
     },
     "execution_count": 45,
     "metadata": {},
     "output_type": "execute_result"
    }
   ],
   "source": [
    "data.shape #数据集的大小"
   ]
  },
  {
   "cell_type": "markdown",
   "metadata": {},
   "source": [
    "## 数据摘要和可视化\n",
    "### 数据摘要\n",
    "#### （1）标称属性，给出每个可能取值的频数"
   ]
  },
  {
   "cell_type": "code",
   "execution_count": 46,
   "metadata": {},
   "outputs": [
    {
     "data": {
      "text/plain": [
       "dotfiles                   5590\n",
       "blog                       2038\n",
       "docs                       1350\n",
       "website                    1163\n",
       "scripts                     649\n",
       "                           ... \n",
       "PVIO                          1\n",
       "arukas-kcptun-client          1\n",
       "hubot-zabbix-scripts          1\n",
       "community-blogger             1\n",
       "CodeBlocks_blank_prject       1\n",
       "Name: name, Length: 2410863, dtype: int64"
      ]
     },
     "execution_count": 46,
     "metadata": {},
     "output_type": "execute_result"
    }
   ],
   "source": [
    "# 由上面对数据集各列进行分析得知，该数据集的标称属性有'name','primary_language','languages_used ','created_at','licence'五个标称属性\n",
    "\n",
    "# (1)仓库名字\n",
    "pd.value_counts(data['name'])"
   ]
  },
  {
   "cell_type": "code",
   "execution_count": 47,
   "metadata": {},
   "outputs": [
    {
     "data": {
      "text/plain": [
       "JavaScript            451954\n",
       "Python                451473\n",
       "Java                  202394\n",
       "C++                   150066\n",
       "PHP                   116058\n",
       "                       ...  \n",
       "desktop                    1\n",
       "Ragel in Ruby Host         1\n",
       "Sieve                      1\n",
       "Rouge                      1\n",
       "Unity3D Asset              1\n",
       "Name: primary_language, Length: 497, dtype: int64"
      ]
     },
     "execution_count": 47,
     "metadata": {},
     "output_type": "execute_result"
    }
   ],
   "source": [
    "# (2)主要语言\n",
    "pd.value_counts(data['primary_language'])"
   ]
  },
  {
   "cell_type": "code",
   "execution_count": 48,
   "metadata": {},
   "outputs": [
    {
     "data": {
      "text/plain": [
       "['Python']                                                     257679\n",
       "['JavaScript']                                                 157741\n",
       "['Java']                                                       117624\n",
       "['C#']                                                          60299\n",
       "['PHP']                                                         56333\n",
       "                                                                ...  \n",
       "['JavaScript', 'Perl', 'CSS', 'Arduino', 'Shell']                   1\n",
       "['Rust', 'TypeScript', 'Makefile', 'Shell', 'JavaScript']           1\n",
       "['CSS', 'HTML', 'Python', 'JavaScript', 'SCSS', 'Procfile']         1\n",
       "['Mathematica', 'Python', 'TeX']                                    1\n",
       "['C++', 'Makefile', 'C', 'Shell', 'JavaScript', 'Groff']            1\n",
       "Name: languages_used, Length: 328148, dtype: int64"
      ]
     },
     "execution_count": 48,
     "metadata": {},
     "output_type": "execute_result"
    }
   ],
   "source": [
    "# (3)当使用的所有语言列表\n",
    "pd.value_counts(data['languages_used'])"
   ]
  },
  {
   "cell_type": "code",
   "execution_count": 49,
   "metadata": {},
   "outputs": [
    {
     "data": {
      "text/plain": [
       "2017-06-05T20:53:54Z    10\n",
       "2017-06-05T20:53:58Z     9\n",
       "2014-01-17T08:00:09Z     8\n",
       "2015-12-02T08:00:06Z     7\n",
       "2010-05-26T23:38:08Z     7\n",
       "                        ..\n",
       "2017-12-07T15:12:06Z     1\n",
       "2018-04-25T09:57:04Z     1\n",
       "2016-03-11T16:42:06Z     1\n",
       "2017-12-27T23:45:39Z     1\n",
       "2016-09-07T15:19:56Z     1\n",
       "Name: created_at, Length: 2837008, dtype: int64"
      ]
     },
     "execution_count": 49,
     "metadata": {},
     "output_type": "execute_result"
    }
   ],
   "source": [
    "# (4)时间戳\n",
    "pd.value_counts(data['created_at'])"
   ]
  },
  {
   "cell_type": "code",
   "execution_count": 50,
   "metadata": {},
   "outputs": [
    {
     "data": {
      "text/plain": [
       "MIT License                                                   784251\n",
       "Apache License 2.0                                            210698\n",
       "Other                                                         167987\n",
       "GNU General Public License v3.0                               159443\n",
       "BSD 3-Clause \"New\" or \"Revised\" License                        47078\n",
       "GNU General Public License v2.0                                43297\n",
       "GNU Affero General Public License v3.0                         21554\n",
       "BSD 2-Clause \"Simplified\" License                              16819\n",
       "The Unlicense                                                  14400\n",
       "GNU Lesser General Public License v3.0                         14002\n",
       "Mozilla Public License 2.0                                     10668\n",
       "Creative Commons Zero v1.0 Universal                           10353\n",
       "ISC License                                                     8232\n",
       "GNU Lesser General Public License v2.1                          6168\n",
       "Eclipse Public License 1.0                                      3699\n",
       "Do What The F*ck You Want To Public License                     3493\n",
       "Creative Commons Attribution 4.0 International                  3292\n",
       "Creative Commons Attribution Share Alike 4.0 International      2664\n",
       "MIT No Attribution                                              2193\n",
       "zlib License                                                    1512\n",
       "Boost Software License 1.0                                      1421\n",
       "Eclipse Public License 2.0                                      1206\n",
       "BSD Zero Clause License                                          770\n",
       "SIL Open Font License 1.1                                        761\n",
       "Artistic License 2.0                                             685\n",
       "Open Software License 3.0                                        644\n",
       "Microsoft Public License                                         470\n",
       "European Union Public License 1.2                                429\n",
       "BSD 3-Clause Clear License                                       295\n",
       "LaTeX Project Public License v1.3c                               266\n",
       "BSD 4-Clause \"Original\" or \"Old\" License                         251\n",
       "Universal Permissive License v1.0                                193\n",
       "Academic Free License v3.0                                       143\n",
       "European Union Public License 1.1                                 93\n",
       "University of Illinois/NCSA Open Source License                   90\n",
       "PostgreSQL License                                                66\n",
       "Open Data Commons Open Database License v1.0                      57\n",
       "Educational Community License v2.0                                25\n",
       "Vim License                                                       20\n",
       "Mulan Permissive Software License, Version 2                      20\n",
       "CeCILL Free Software License Agreement v2.1                       19\n",
       "Microsoft Reciprocal License                                      15\n",
       "CERN Open Hardware Licence Version 2 - Permissive                  4\n",
       "CERN Open Hardware Licence Version 2 - Weakly Reciprocal           2\n",
       "CERN Open Hardware Licence Version 2 - Strongly Reciprocal         2\n",
       "GNU Free Documentation License v1.3                                1\n",
       "Name: licence, dtype: int64"
      ]
     },
     "execution_count": 50,
     "metadata": {},
     "output_type": "execute_result"
    }
   ],
   "source": [
    "# (5)许可证\n",
    "pd.value_counts(data['licence'])"
   ]
  },
  {
   "cell_type": "markdown",
   "metadata": {},
   "source": [
    "#### （2）数值属性，给出5数概括及缺失值的个数"
   ]
  },
  {
   "cell_type": "code",
   "execution_count": 51,
   "metadata": {},
   "outputs": [
    {
     "data": {
      "text/html": [
       "<div>\n",
       "<style scoped>\n",
       "    .dataframe tbody tr th:only-of-type {\n",
       "        vertical-align: middle;\n",
       "    }\n",
       "\n",
       "    .dataframe tbody tr th {\n",
       "        vertical-align: top;\n",
       "    }\n",
       "\n",
       "    .dataframe thead th {\n",
       "        text-align: right;\n",
       "    }\n",
       "</style>\n",
       "<table border=\"1\" class=\"dataframe\">\n",
       "  <thead>\n",
       "    <tr style=\"text-align: right;\">\n",
       "      <th></th>\n",
       "      <th>stars_count</th>\n",
       "      <th>forks_count</th>\n",
       "      <th>watchers</th>\n",
       "      <th>pull_requests</th>\n",
       "      <th>commit_count</th>\n",
       "    </tr>\n",
       "  </thead>\n",
       "  <tbody>\n",
       "    <tr>\n",
       "      <td>count</td>\n",
       "      <td>2917951.00</td>\n",
       "      <td>2917951.00</td>\n",
       "      <td>2917951.00</td>\n",
       "      <td>2917951.00</td>\n",
       "      <td>2916030.00</td>\n",
       "    </tr>\n",
       "    <tr>\n",
       "      <td>mean</td>\n",
       "      <td>76.41</td>\n",
       "      <td>20.95</td>\n",
       "      <td>7.14</td>\n",
       "      <td>24.31</td>\n",
       "      <td>614.37</td>\n",
       "    </tr>\n",
       "    <tr>\n",
       "      <td>std</td>\n",
       "      <td>909.68</td>\n",
       "      <td>302.95</td>\n",
       "      <td>37.62</td>\n",
       "      <td>378.44</td>\n",
       "      <td>16808.01</td>\n",
       "    </tr>\n",
       "    <tr>\n",
       "      <td>min</td>\n",
       "      <td>2.00</td>\n",
       "      <td>0.00</td>\n",
       "      <td>0.00</td>\n",
       "      <td>0.00</td>\n",
       "      <td>1.00</td>\n",
       "    </tr>\n",
       "    <tr>\n",
       "      <td>25%</td>\n",
       "      <td>7.00</td>\n",
       "      <td>1.00</td>\n",
       "      <td>2.00</td>\n",
       "      <td>0.00</td>\n",
       "      <td>9.00</td>\n",
       "    </tr>\n",
       "    <tr>\n",
       "      <td>50%</td>\n",
       "      <td>12.00</td>\n",
       "      <td>4.00</td>\n",
       "      <td>3.00</td>\n",
       "      <td>1.00</td>\n",
       "      <td>27.00</td>\n",
       "    </tr>\n",
       "    <tr>\n",
       "      <td>75%</td>\n",
       "      <td>30.00</td>\n",
       "      <td>11.00</td>\n",
       "      <td>6.00</td>\n",
       "      <td>6.00</td>\n",
       "      <td>89.00</td>\n",
       "    </tr>\n",
       "    <tr>\n",
       "      <td>max</td>\n",
       "      <td>359805.00</td>\n",
       "      <td>242208.00</td>\n",
       "      <td>9544.00</td>\n",
       "      <td>301585.00</td>\n",
       "      <td>4314502.00</td>\n",
       "    </tr>\n",
       "  </tbody>\n",
       "</table>\n",
       "</div>"
      ],
      "text/plain": [
       "       stars_count  forks_count   watchers  pull_requests  commit_count\n",
       "count   2917951.00   2917951.00 2917951.00     2917951.00    2916030.00\n",
       "mean         76.41        20.95       7.14          24.31        614.37\n",
       "std         909.68       302.95      37.62         378.44      16808.01\n",
       "min           2.00         0.00       0.00           0.00          1.00\n",
       "25%           7.00         1.00       2.00           0.00          9.00\n",
       "50%          12.00         4.00       3.00           1.00         27.00\n",
       "75%          30.00        11.00       6.00           6.00         89.00\n",
       "max      359805.00    242208.00    9544.00      301585.00    4314502.00"
      ]
     },
     "execution_count": 51,
     "metadata": {},
     "output_type": "execute_result"
    }
   ],
   "source": [
    "# 该数据集的数值属性有'stars_count','forks_count','watchers','pull_requests','commit_count'五个属性\n",
    "digital_data1 = ['stars_count','forks_count','watchers','pull_requests','commit_count']\n",
    "np.set_printoptions(suppress=True)\n",
    "pd.set_option('display.float_format', lambda x: '%.2f' % x) \n",
    "data[digital_data1].describe()"
   ]
  },
  {
   "cell_type": "markdown",
   "metadata": {},
   "source": [
    "stars_count：最大值359805，最小值2，四分位数[7,12,30]\n",
    "\n",
    "forks_count：最大值242208，最小值0.四分位数[1,4,11]\n",
    "\n",
    "watchers：最大值9544，最小值0，四分位数[2,3,6]\n",
    "\n",
    "pull_requests：最大值301585，最小值0，四分位数[0,1,6]\n",
    "\n",
    "commit_count：最大值4314502，最小值1，四分位数[9,27,89]"
   ]
  },
  {
   "cell_type": "code",
   "execution_count": 52,
   "metadata": {},
   "outputs": [
    {
     "name": "stdout",
     "output_type": "stream",
     "text": [
      "stars_count缺失值个数为 0\n",
      "forks_count缺失值个数为 0\n",
      "watchers缺失值个数为 0\n",
      "pull_requests缺失值个数为 0\n",
      "commit_count缺失值个数为 1921\n"
     ]
    }
   ],
   "source": [
    "print(\"stars_count缺失值个数为\",data['stars_count'].isnull().sum())\n",
    "print(\"forks_count缺失值个数为\",data['forks_count'].isnull().sum())\n",
    "print(\"watchers缺失值个数为\",data['watchers'].isnull().sum())\n",
    "print(\"pull_requests缺失值个数为\",data['pull_requests'].isnull().sum())\n",
    "print(\"commit_count缺失值个数为\",data['commit_count'].isnull().sum())"
   ]
  },
  {
   "cell_type": "markdown",
   "metadata": {},
   "source": [
    "### 数据可视化\n",
    "（1）绘制stars_count的直方图、盒图、q-q图"
   ]
  },
  {
   "cell_type": "code",
   "execution_count": 53,
   "metadata": {},
   "outputs": [
    {
     "data": {
      "image/png": "[encoded data removed]",
      "text/plain": [
       "<Figure size 720x720 with 4 Axes>"
      ]
     },
     "metadata": {
      "needs_background": "light"
     },
     "output_type": "display_data"
    }
   ],
   "source": [
    "plt.figure(figsize = (10,10))\n",
    "\n",
    "#直方图\n",
    "plt.subplot(2,2,1)\n",
    "plt.title(\"stars_count hist\")\n",
    "data['stars_count'].hist(alpha=0.5,bins=15) #alpha透明度，bins竖条数\n",
    "\n",
    "#盒图\n",
    "plt.subplot(2,2,2)\n",
    "plt.title(\"stars_count box\")\n",
    "data['stars_count'].plot(kind='box',grid=True)\n",
    "\n",
    "#q-q图\n",
    "plt.subplot(2,2,3)\n",
    "stats.probplot(data['stars_count'],dist=\"norm\",plot=plt)\n",
    "\n",
    "#去除缺失值再绘制q-q图\n",
    "plt.subplot(2,2,4)\n",
    "data_drop=pd.DataFrame(data['stars_count'].copy(deep=True))\n",
    "data_drop = data_drop.dropna()\n",
    "stats.probplot(data_drop['stars_count'], dist=\"norm\", plot=plt)\n",
    "\n",
    "plt.show()"
   ]
  },
  {
   "cell_type": "markdown",
   "metadata": {},
   "source": [
    "（2）绘制forks_count的直方图、盒图、q-q图"
   ]
  },
  {
   "cell_type": "code",
   "execution_count": 54,
   "metadata": {},
   "outputs": [
    {
     "data": {
      "image/png": "[encoded data removed]",
      "text/plain": [
       "<Figure size 720x720 with 4 Axes>"
      ]
     },
     "metadata": {
      "needs_background": "light"
     },
     "output_type": "display_data"
    }
   ],
   "source": [
    "plt.figure(figsize = (10,10))\n",
    "\n",
    "#直方图\n",
    "plt.subplot(2,2,1)\n",
    "plt.title(\"forks_count hist\")\n",
    "data['forks_count'].hist(alpha=0.5,bins=15) #alpha透明度，bins竖条数\n",
    "\n",
    "#盒图\n",
    "plt.subplot(2,2,2)\n",
    "plt.title(\"forks_count box\")\n",
    "data['forks_count'].plot(kind='box',grid=True)\n",
    "\n",
    "#q-q图\n",
    "plt.subplot(2,2,3)\n",
    "stats.probplot(data['forks_count'],dist=\"norm\",plot=plt)\n",
    "\n",
    "#去除缺失值再绘制q-q图\n",
    "plt.subplot(2,2,4)\n",
    "data_drop=pd.DataFrame(data['forks_count'].copy(deep=True))\n",
    "data_drop = data_drop.dropna()\n",
    "stats.probplot(data_drop['forks_count'], dist=\"norm\", plot=plt)\n",
    "\n",
    "plt.show()"
   ]
  },
  {
   "cell_type": "markdown",
   "metadata": {},
   "source": [
    "（3）绘制watchers的直方图、盒图、q-q图"
   ]
  },
  {
   "cell_type": "code",
   "execution_count": 55,
   "metadata": {},
   "outputs": [
    {
     "data": {
      "image/png": "[encoded data removed]",
      "text/plain": [
       "<Figure size 720x720 with 4 Axes>"
      ]
     },
     "metadata": {
      "needs_background": "light"
     },
     "output_type": "display_data"
    }
   ],
   "source": [
    "plt.figure(figsize = (10,10))\n",
    "\n",
    "#直方图\n",
    "plt.subplot(2,2,1)\n",
    "plt.title(\"watchers hist\")\n",
    "data['watchers'].hist(alpha=0.5,bins=15) #alpha透明度，bins竖条数\n",
    "\n",
    "#盒图\n",
    "plt.subplot(2,2,2)\n",
    "plt.title(\"watchers box\")\n",
    "data['watchers'].plot(kind='box',grid=True)\n",
    "\n",
    "#q-q图\n",
    "plt.subplot(2,2,3)\n",
    "stats.probplot(data['watchers'],dist=\"norm\",plot=plt)\n",
    "\n",
    "#去除缺失值再绘制q-q图\n",
    "plt.subplot(2,2,4)\n",
    "data_drop=pd.DataFrame(data['watchers'].copy(deep=True))\n",
    "data_drop = data_drop.dropna()\n",
    "stats.probplot(data_drop['watchers'], dist=\"norm\", plot=plt)\n",
    "\n",
    "plt.show()"
   ]
  },
  {
   "cell_type": "markdown",
   "metadata": {},
   "source": [
    "## 数据缺失处理"
   ]
  },
  {
   "cell_type": "code",
   "execution_count": 27,
   "metadata": {},
   "outputs": [
    {
     "data": {
      "text/html": [
       "<div>\n",
       "<style scoped>\n",
       "    .dataframe tbody tr th:only-of-type {\n",
       "        vertical-align: middle;\n",
       "    }\n",
       "\n",
       "    .dataframe tbody tr th {\n",
       "        vertical-align: top;\n",
       "    }\n",
       "\n",
       "    .dataframe thead th {\n",
       "        text-align: right;\n",
       "    }\n",
       "</style>\n",
       "<table border=\"1\" class=\"dataframe\">\n",
       "  <thead>\n",
       "    <tr style=\"text-align: right;\">\n",
       "      <th></th>\n",
       "      <th>missing_num</th>\n",
       "      <th>missing_percent</th>\n",
       "      <th>Types</th>\n",
       "    </tr>\n",
       "  </thead>\n",
       "  <tbody>\n",
       "    <tr>\n",
       "      <td>name</td>\n",
       "      <td>12</td>\n",
       "      <td>0.00</td>\n",
       "      <td>object</td>\n",
       "    </tr>\n",
       "    <tr>\n",
       "      <td>stars_count</td>\n",
       "      <td>0</td>\n",
       "      <td>0.00</td>\n",
       "      <td>int64</td>\n",
       "    </tr>\n",
       "    <tr>\n",
       "      <td>forks_count</td>\n",
       "      <td>0</td>\n",
       "      <td>0.00</td>\n",
       "      <td>int64</td>\n",
       "    </tr>\n",
       "    <tr>\n",
       "      <td>watchers</td>\n",
       "      <td>0</td>\n",
       "      <td>0.00</td>\n",
       "      <td>int64</td>\n",
       "    </tr>\n",
       "    <tr>\n",
       "      <td>pull_requests</td>\n",
       "      <td>0</td>\n",
       "      <td>0.00</td>\n",
       "      <td>int64</td>\n",
       "    </tr>\n",
       "    <tr>\n",
       "      <td>primary_language</td>\n",
       "      <td>218573</td>\n",
       "      <td>7.49</td>\n",
       "      <td>object</td>\n",
       "    </tr>\n",
       "    <tr>\n",
       "      <td>languages_used</td>\n",
       "      <td>221984</td>\n",
       "      <td>7.61</td>\n",
       "      <td>object</td>\n",
       "    </tr>\n",
       "    <tr>\n",
       "      <td>commit_count</td>\n",
       "      <td>1921</td>\n",
       "      <td>0.07</td>\n",
       "      <td>float64</td>\n",
       "    </tr>\n",
       "    <tr>\n",
       "      <td>created_at</td>\n",
       "      <td>0</td>\n",
       "      <td>0.00</td>\n",
       "      <td>object</td>\n",
       "    </tr>\n",
       "    <tr>\n",
       "      <td>licence</td>\n",
       "      <td>1378200</td>\n",
       "      <td>47.23</td>\n",
       "      <td>object</td>\n",
       "    </tr>\n",
       "  </tbody>\n",
       "</table>\n",
       "</div>"
      ],
      "text/plain": [
       "                  missing_num  missing_percent    Types\n",
       "name                       12             0.00   object\n",
       "stars_count                 0             0.00    int64\n",
       "forks_count                 0             0.00    int64\n",
       "watchers                    0             0.00    int64\n",
       "pull_requests               0             0.00    int64\n",
       "primary_language       218573             7.49   object\n",
       "languages_used         221984             7.61   object\n",
       "commit_count             1921             0.07  float64\n",
       "created_at                  0             0.00   object\n",
       "licence               1378200            47.23   object"
      ]
     },
     "execution_count": 27,
     "metadata": {},
     "output_type": "execute_result"
    }
   ],
   "source": [
    "#绘制表格查看数据缺失值并检验四种方案填充后是否还有缺失值\n",
    "def missing_data(datatodel):\n",
    "    missing_num = datatodel.isnull().sum()\n",
    "    missing_percent = missing_num/datatodel.shape[0]*100\n",
    "    concat_data = pd.concat([missing_num,missing_percent],axis=1,keys=['missing_num','missing_percent'])\n",
    "    concat_data['Types'] = datatodel.dtypes\n",
    "    return concat_data\n",
    "\n",
    "missing_data(data)"
   ]
  },
  {
   "cell_type": "markdown",
   "metadata": {},
   "source": [
    "由上表可以看出，数值属性commit_count存在缺失值，  \n",
    "标称属性name、primary_language、languages_used、licence存在缺失值，  \n",
    "这里缺失的原因可能是由于未完全记录、遗漏或无法获取\n",
    "### 方案一 缺失值剔除"
   ]
  },
  {
   "cell_type": "code",
   "execution_count": 28,
   "metadata": {},
   "outputs": [
    {
     "data": {
      "text/html": [
       "<div>\n",
       "<style scoped>\n",
       "    .dataframe tbody tr th:only-of-type {\n",
       "        vertical-align: middle;\n",
       "    }\n",
       "\n",
       "    .dataframe tbody tr th {\n",
       "        vertical-align: top;\n",
       "    }\n",
       "\n",
       "    .dataframe thead th {\n",
       "        text-align: right;\n",
       "    }\n",
       "</style>\n",
       "<table border=\"1\" class=\"dataframe\">\n",
       "  <thead>\n",
       "    <tr style=\"text-align: right;\">\n",
       "      <th></th>\n",
       "      <th>missing_num</th>\n",
       "      <th>missing_percent</th>\n",
       "      <th>Types</th>\n",
       "    </tr>\n",
       "  </thead>\n",
       "  <tbody>\n",
       "    <tr>\n",
       "      <td>name</td>\n",
       "      <td>0</td>\n",
       "      <td>0.00</td>\n",
       "      <td>object</td>\n",
       "    </tr>\n",
       "    <tr>\n",
       "      <td>stars_count</td>\n",
       "      <td>0</td>\n",
       "      <td>0.00</td>\n",
       "      <td>int64</td>\n",
       "    </tr>\n",
       "    <tr>\n",
       "      <td>forks_count</td>\n",
       "      <td>0</td>\n",
       "      <td>0.00</td>\n",
       "      <td>int64</td>\n",
       "    </tr>\n",
       "    <tr>\n",
       "      <td>watchers</td>\n",
       "      <td>0</td>\n",
       "      <td>0.00</td>\n",
       "      <td>int64</td>\n",
       "    </tr>\n",
       "    <tr>\n",
       "      <td>pull_requests</td>\n",
       "      <td>0</td>\n",
       "      <td>0.00</td>\n",
       "      <td>int64</td>\n",
       "    </tr>\n",
       "    <tr>\n",
       "      <td>primary_language</td>\n",
       "      <td>0</td>\n",
       "      <td>0.00</td>\n",
       "      <td>object</td>\n",
       "    </tr>\n",
       "    <tr>\n",
       "      <td>languages_used</td>\n",
       "      <td>0</td>\n",
       "      <td>0.00</td>\n",
       "      <td>object</td>\n",
       "    </tr>\n",
       "    <tr>\n",
       "      <td>commit_count</td>\n",
       "      <td>0</td>\n",
       "      <td>0.00</td>\n",
       "      <td>float64</td>\n",
       "    </tr>\n",
       "    <tr>\n",
       "      <td>created_at</td>\n",
       "      <td>0</td>\n",
       "      <td>0.00</td>\n",
       "      <td>object</td>\n",
       "    </tr>\n",
       "    <tr>\n",
       "      <td>licence</td>\n",
       "      <td>0</td>\n",
       "      <td>0.00</td>\n",
       "      <td>object</td>\n",
       "    </tr>\n",
       "  </tbody>\n",
       "</table>\n",
       "</div>"
      ],
      "text/plain": [
       "                  missing_num  missing_percent    Types\n",
       "name                        0             0.00   object\n",
       "stars_count                 0             0.00    int64\n",
       "forks_count                 0             0.00    int64\n",
       "watchers                    0             0.00    int64\n",
       "pull_requests               0             0.00    int64\n",
       "primary_language            0             0.00   object\n",
       "languages_used              0             0.00   object\n",
       "commit_count                0             0.00  float64\n",
       "created_at                  0             0.00   object\n",
       "licence                     0             0.00   object"
      ]
     },
     "execution_count": 28,
     "metadata": {},
     "output_type": "execute_result"
    }
   ],
   "source": [
    "del_null_data = data.copy(deep=True)\n",
    "del_null_data = del_null_data.dropna()\n",
    "#处理缺失数据后的数据展示\n",
    "missing_data(del_null_data)"
   ]
  },
  {
   "cell_type": "markdown",
   "metadata": {},
   "source": [
    "+ 新旧数据集对比"
   ]
  },
  {
   "cell_type": "code",
   "execution_count": 29,
   "metadata": {},
   "outputs": [
    {
     "name": "stderr",
     "output_type": "stream",
     "text": [
      "C:\\ProgramData\\Anaconda3\\lib\\site-packages\\scipy\\stats\\_distn_infrastructure.py:901: RuntimeWarning: invalid value encountered in greater\n",
      "  return (a < x) & (x < b)\n",
      "C:\\ProgramData\\Anaconda3\\lib\\site-packages\\scipy\\stats\\_distn_infrastructure.py:901: RuntimeWarning: invalid value encountered in less\n",
      "  return (a < x) & (x < b)\n",
      "C:\\ProgramData\\Anaconda3\\lib\\site-packages\\scipy\\stats\\_distn_infrastructure.py:1892: RuntimeWarning: invalid value encountered in less_equal\n",
      "  cond2 = cond0 & (x <= _a)\n"
     ]
    },
    {
     "data": {
      "image/png": "[encoded data removed]",
      "text/plain": [
       "<Figure size 720x720 with 6 Axes>"
      ]
     },
     "metadata": {
      "needs_background": "light"
     },
     "output_type": "display_data"
    }
   ],
   "source": [
    "plt.figure(figsize = (10,10))\n",
    "\n",
    "#直方图\n",
    "plt.subplot(3,2,1)\n",
    "plt.title(\"commit_count hist\")\n",
    "data['commit_count'].hist(alpha=0.5,bins=15)\n",
    "\n",
    "plt.subplot(3,2,2)\n",
    "plt.title(\"new commit_count hist\")\n",
    "del_null_data['commit_count'].hist(alpha=0.5,bins=15)\n",
    "\n",
    "\n",
    "#盒图\n",
    "plt.subplot(3,2,3)\n",
    "plt.title(\"commit_count box\")\n",
    "data['commit_count'].plot(kind='box',grid=True)\n",
    "\n",
    "plt.subplot(3,2,4)\n",
    "plt.title(\"new commit_count box\")\n",
    "del_null_data['commit_count'].plot(kind='box',grid=True)\n",
    "\n",
    "#q-q图\n",
    "plt.subplot(3,2,5)\n",
    "stats.probplot(data['commit_count'],dist=\"norm\",plot=plt)\n",
    "\n",
    "plt.subplot(3,2,6)\n",
    "stats.probplot(del_null_data['commit_count'],dist=\"norm\",plot=plt)\n",
    "\n",
    "plt.show()"
   ]
  },
  {
   "cell_type": "code",
   "execution_count": 30,
   "metadata": {},
   "outputs": [
    {
     "data": {
      "text/html": [
       "<div>\n",
       "<style scoped>\n",
       "    .dataframe tbody tr th:only-of-type {\n",
       "        vertical-align: middle;\n",
       "    }\n",
       "\n",
       "    .dataframe tbody tr th {\n",
       "        vertical-align: top;\n",
       "    }\n",
       "\n",
       "    .dataframe thead th {\n",
       "        text-align: right;\n",
       "    }\n",
       "</style>\n",
       "<table border=\"1\" class=\"dataframe\">\n",
       "  <thead>\n",
       "    <tr style=\"text-align: right;\">\n",
       "      <th></th>\n",
       "      <th>commit_count</th>\n",
       "    </tr>\n",
       "  </thead>\n",
       "  <tbody>\n",
       "    <tr>\n",
       "      <td>count</td>\n",
       "      <td>1471612.00</td>\n",
       "    </tr>\n",
       "    <tr>\n",
       "      <td>mean</td>\n",
       "      <td>1032.26</td>\n",
       "    </tr>\n",
       "    <tr>\n",
       "      <td>std</td>\n",
       "      <td>22258.89</td>\n",
       "    </tr>\n",
       "    <tr>\n",
       "      <td>min</td>\n",
       "      <td>1.00</td>\n",
       "    </tr>\n",
       "    <tr>\n",
       "      <td>25%</td>\n",
       "      <td>15.00</td>\n",
       "    </tr>\n",
       "    <tr>\n",
       "      <td>50%</td>\n",
       "      <td>44.00</td>\n",
       "    </tr>\n",
       "    <tr>\n",
       "      <td>75%</td>\n",
       "      <td>139.00</td>\n",
       "    </tr>\n",
       "    <tr>\n",
       "      <td>max</td>\n",
       "      <td>1236686.00</td>\n",
       "    </tr>\n",
       "  </tbody>\n",
       "</table>\n",
       "</div>"
      ],
      "text/plain": [
       "       commit_count\n",
       "count    1471612.00\n",
       "mean        1032.26\n",
       "std        22258.89\n",
       "min            1.00\n",
       "25%           15.00\n",
       "50%           44.00\n",
       "75%          139.00\n",
       "max      1236686.00"
      ]
     },
     "execution_count": 30,
     "metadata": {},
     "output_type": "execute_result"
    }
   ],
   "source": [
    "del_null_data[['commit_count']].describe()  #缺失部分剔除后数据的5数概况"
   ]
  },
  {
   "cell_type": "markdown",
   "metadata": {},
   "source": [
    "### 方案二 用最高频率值来填补缺失值"
   ]
  },
  {
   "cell_type": "code",
   "execution_count": 31,
   "metadata": {},
   "outputs": [],
   "source": [
    "#用最高频率来填补缺失值--此处使用深拷贝，否则会改变原值\n",
    "fill_data_with_most_frequency = data.copy(deep=True)\n",
    "#对'Data_Value'进行最高频率值填补缺失值\n",
    "word_counts = Counter(fill_data_with_most_frequency['commit_count'])\n",
    "top = word_counts.most_common(1)[0][0]\n",
    "fill_data_with_most_frequency['commit_count'] = fill_data_with_most_frequency['commit_count'].fillna(top)"
   ]
  },
  {
   "cell_type": "markdown",
   "metadata": {},
   "source": [
    "+ 新旧数据集对比"
   ]
  },
  {
   "cell_type": "code",
   "execution_count": 32,
   "metadata": {},
   "outputs": [
    {
     "name": "stderr",
     "output_type": "stream",
     "text": [
      "C:\\ProgramData\\Anaconda3\\lib\\site-packages\\scipy\\stats\\_distn_infrastructure.py:901: RuntimeWarning: invalid value encountered in greater\n",
      "  return (a < x) & (x < b)\n",
      "C:\\ProgramData\\Anaconda3\\lib\\site-packages\\scipy\\stats\\_distn_infrastructure.py:901: RuntimeWarning: invalid value encountered in less\n",
      "  return (a < x) & (x < b)\n",
      "C:\\ProgramData\\Anaconda3\\lib\\site-packages\\scipy\\stats\\_distn_infrastructure.py:1892: RuntimeWarning: invalid value encountered in less_equal\n",
      "  cond2 = cond0 & (x <= _a)\n"
     ]
    },
    {
     "data": {
      "image/png": "[encoded data removed]",
      "text/plain": [
       "<Figure size 720x720 with 6 Axes>"
      ]
     },
     "metadata": {
      "needs_background": "light"
     },
     "output_type": "display_data"
    }
   ],
   "source": [
    "plt.figure(figsize = (10,10))\n",
    "\n",
    "#直方图\n",
    "plt.subplot(3,2,1)\n",
    "plt.title(\"commit_count hist\")\n",
    "data['commit_count'].hist(alpha=0.5,bins=15)\n",
    "\n",
    "plt.subplot(3,2,2)\n",
    "plt.title(\"new commit_count hist\")\n",
    "del_null_data['commit_count'].hist(alpha=0.5,bins=15)\n",
    "\n",
    "\n",
    "#盒图\n",
    "plt.subplot(3,2,3)\n",
    "plt.title(\"commit_count box\")\n",
    "data['commit_count'].plot(kind='box',grid=True)\n",
    "\n",
    "plt.subplot(3,2,4)\n",
    "plt.title(\"new commit_count box\")\n",
    "del_null_data['commit_count'].plot(kind='box',grid=True)\n",
    "\n",
    "#q-q图\n",
    "plt.subplot(3,2,5)\n",
    "stats.probplot(data['commit_count'],dist=\"norm\",plot=plt)\n",
    "\n",
    "plt.subplot(3,2,6)\n",
    "stats.probplot(del_null_data['commit_count'],dist=\"norm\",plot=plt)\n",
    "\n",
    "plt.show()"
   ]
  },
  {
   "cell_type": "code",
   "execution_count": 33,
   "metadata": {},
   "outputs": [
    {
     "data": {
      "text/html": [
       "<div>\n",
       "<style scoped>\n",
       "    .dataframe tbody tr th:only-of-type {\n",
       "        vertical-align: middle;\n",
       "    }\n",
       "\n",
       "    .dataframe tbody tr th {\n",
       "        vertical-align: top;\n",
       "    }\n",
       "\n",
       "    .dataframe thead th {\n",
       "        text-align: right;\n",
       "    }\n",
       "</style>\n",
       "<table border=\"1\" class=\"dataframe\">\n",
       "  <thead>\n",
       "    <tr style=\"text-align: right;\">\n",
       "      <th></th>\n",
       "      <th>commit_count</th>\n",
       "    </tr>\n",
       "  </thead>\n",
       "  <tbody>\n",
       "    <tr>\n",
       "      <td>count</td>\n",
       "      <td>2917951.00</td>\n",
       "    </tr>\n",
       "    <tr>\n",
       "      <td>mean</td>\n",
       "      <td>613.97</td>\n",
       "    </tr>\n",
       "    <tr>\n",
       "      <td>std</td>\n",
       "      <td>16802.48</td>\n",
       "    </tr>\n",
       "    <tr>\n",
       "      <td>min</td>\n",
       "      <td>1.00</td>\n",
       "    </tr>\n",
       "    <tr>\n",
       "      <td>25%</td>\n",
       "      <td>9.00</td>\n",
       "    </tr>\n",
       "    <tr>\n",
       "      <td>50%</td>\n",
       "      <td>27.00</td>\n",
       "    </tr>\n",
       "    <tr>\n",
       "      <td>75%</td>\n",
       "      <td>89.00</td>\n",
       "    </tr>\n",
       "    <tr>\n",
       "      <td>max</td>\n",
       "      <td>4314502.00</td>\n",
       "    </tr>\n",
       "  </tbody>\n",
       "</table>\n",
       "</div>"
      ],
      "text/plain": [
       "       commit_count\n",
       "count    2917951.00\n",
       "mean         613.97\n",
       "std        16802.48\n",
       "min            1.00\n",
       "25%            9.00\n",
       "50%           27.00\n",
       "75%           89.00\n",
       "max      4314502.00"
      ]
     },
     "execution_count": 33,
     "metadata": {},
     "output_type": "execute_result"
    }
   ],
   "source": [
    "#对填充后的新数据进行描述\n",
    "fill_data_with_most_frequency[['commit_count']].describe()"
   ]
  },
  {
   "cell_type": "markdown",
   "metadata": {},
   "source": [
    "### 方案三 通过属性的相关关系来填补缺失值"
   ]
  },
  {
   "cell_type": "code",
   "execution_count": 34,
   "metadata": {},
   "outputs": [
    {
     "data": {
      "text/html": [
       "<div>\n",
       "<style scoped>\n",
       "    .dataframe tbody tr th:only-of-type {\n",
       "        vertical-align: middle;\n",
       "    }\n",
       "\n",
       "    .dataframe tbody tr th {\n",
       "        vertical-align: top;\n",
       "    }\n",
       "\n",
       "    .dataframe thead th {\n",
       "        text-align: right;\n",
       "    }\n",
       "</style>\n",
       "<table border=\"1\" class=\"dataframe\">\n",
       "  <thead>\n",
       "    <tr style=\"text-align: right;\">\n",
       "      <th></th>\n",
       "      <th>stars_count</th>\n",
       "      <th>forks_count</th>\n",
       "      <th>watchers</th>\n",
       "      <th>pull_requests</th>\n",
       "      <th>commit_count</th>\n",
       "    </tr>\n",
       "  </thead>\n",
       "  <tbody>\n",
       "    <tr>\n",
       "      <td>stars_count</td>\n",
       "      <td>1.00</td>\n",
       "      <td>0.57</td>\n",
       "      <td>0.71</td>\n",
       "      <td>0.19</td>\n",
       "      <td>0.02</td>\n",
       "    </tr>\n",
       "    <tr>\n",
       "      <td>forks_count</td>\n",
       "      <td>0.57</td>\n",
       "      <td>1.00</td>\n",
       "      <td>0.49</td>\n",
       "      <td>0.21</td>\n",
       "      <td>0.02</td>\n",
       "    </tr>\n",
       "    <tr>\n",
       "      <td>watchers</td>\n",
       "      <td>0.71</td>\n",
       "      <td>0.49</td>\n",
       "      <td>1.00</td>\n",
       "      <td>0.16</td>\n",
       "      <td>0.02</td>\n",
       "    </tr>\n",
       "    <tr>\n",
       "      <td>pull_requests</td>\n",
       "      <td>0.19</td>\n",
       "      <td>0.21</td>\n",
       "      <td>0.16</td>\n",
       "      <td>1.00</td>\n",
       "      <td>0.05</td>\n",
       "    </tr>\n",
       "    <tr>\n",
       "      <td>commit_count</td>\n",
       "      <td>0.02</td>\n",
       "      <td>0.02</td>\n",
       "      <td>0.02</td>\n",
       "      <td>0.05</td>\n",
       "      <td>1.00</td>\n",
       "    </tr>\n",
       "  </tbody>\n",
       "</table>\n",
       "</div>"
      ],
      "text/plain": [
       "               stars_count  forks_count  watchers  pull_requests  commit_count\n",
       "stars_count           1.00         0.57      0.71           0.19          0.02\n",
       "forks_count           0.57         1.00      0.49           0.21          0.02\n",
       "watchers              0.71         0.49      1.00           0.16          0.02\n",
       "pull_requests         0.19         0.21      0.16           1.00          0.05\n",
       "commit_count          0.02         0.02      0.02           0.05          1.00"
      ]
     },
     "execution_count": 34,
     "metadata": {},
     "output_type": "execute_result"
    }
   ],
   "source": [
    "#查看相关的属性关系\n",
    "data.corr()"
   ]
  },
  {
   "cell_type": "code",
   "execution_count": 35,
   "metadata": {},
   "outputs": [],
   "source": [
    "#通过属性的相关关系来填补缺失值\n",
    "target_data = data['commit_count'].copy(deep=True)\n",
    "source_data = data['pull_requests'].copy(deep=True)\n",
    "\n",
    "flag1 = target_data.isnull().values\n",
    "flag2 = source_data.isnull().values\n",
    "\n",
    "i=0\n",
    "for _,value in target_data.iteritems():\n",
    "    if(flag1[i]==True) and (flag2[i]==False):\n",
    "        target_data[i] = 500 + source_data[i]\n",
    "    i=i+1"
   ]
  },
  {
   "cell_type": "markdown",
   "metadata": {},
   "source": [
    "+ 新旧数据集对比"
   ]
  },
  {
   "cell_type": "code",
   "execution_count": 36,
   "metadata": {},
   "outputs": [
    {
     "name": "stderr",
     "output_type": "stream",
     "text": [
      "C:\\ProgramData\\Anaconda3\\lib\\site-packages\\scipy\\stats\\_distn_infrastructure.py:901: RuntimeWarning: invalid value encountered in greater\n",
      "  return (a < x) & (x < b)\n",
      "C:\\ProgramData\\Anaconda3\\lib\\site-packages\\scipy\\stats\\_distn_infrastructure.py:901: RuntimeWarning: invalid value encountered in less\n",
      "  return (a < x) & (x < b)\n",
      "C:\\ProgramData\\Anaconda3\\lib\\site-packages\\scipy\\stats\\_distn_infrastructure.py:1892: RuntimeWarning: invalid value encountered in less_equal\n",
      "  cond2 = cond0 & (x <= _a)\n"
     ]
    },
    {
     "data": {
      "image/png": "[encoded data removed]",
      "text/plain": [
       "<Figure size 720x720 with 6 Axes>"
      ]
     },
     "metadata": {
      "needs_background": "light"
     },
     "output_type": "display_data"
    }
   ],
   "source": [
    "plt.figure(figsize = (10,10))\n",
    "\n",
    "#直方图\n",
    "plt.subplot(3,2,1)\n",
    "plt.title(\"commit_count hist\")\n",
    "data['commit_count'].hist(alpha=0.5,bins=15) #alpha透明度，bins竖条数\n",
    "\n",
    "#直方图\n",
    "plt.subplot(3,2,2)\n",
    "plt.title(\"new commit_count hist\")\n",
    "target_data.hist(alpha=0.5,bins=15) #alpha透明度，bins竖条数\n",
    "\n",
    "\n",
    "#盒图\n",
    "plt.subplot(3,2,3)\n",
    "plt.title(\"commit_count box\")\n",
    "data['commit_count'].plot(kind='box',notch=True,grid=True)\n",
    "\n",
    "#盒图\n",
    "plt.subplot(3,2,4)\n",
    "plt.title(\"new commit_count box\")\n",
    "target_data.plot(kind='box',notch=True,grid=True)\n",
    "\n",
    "#q-q图\n",
    "plt.subplot(3,2,5)\n",
    "stats.probplot(data['commit_count'],dist=\"norm\",plot=plt)\n",
    "\n",
    "plt.subplot(3,2,6)\n",
    "stats.probplot(target_data,dist=\"norm\",plot=plt)\n",
    "\n",
    "plt.show()"
   ]
  },
  {
   "cell_type": "code",
   "execution_count": 37,
   "metadata": {},
   "outputs": [
    {
     "data": {
      "text/plain": [
       "count   2917951.00\n",
       "mean        614.30\n",
       "std       16802.47\n",
       "min           1.00\n",
       "25%           9.00\n",
       "50%          27.00\n",
       "75%          89.00\n",
       "max     4314502.00\n",
       "Name: commit_count, dtype: float64"
      ]
     },
     "execution_count": 37,
     "metadata": {},
     "output_type": "execute_result"
    }
   ],
   "source": [
    "target_data.describe()"
   ]
  },
  {
   "cell_type": "markdown",
   "metadata": {},
   "source": [
    "### 方案四 通过数据对象之间的相似性来填补缺失值"
   ]
  },
  {
   "cell_type": "code",
   "execution_count": 38,
   "metadata": {},
   "outputs": [
    {
     "name": "stdout",
     "output_type": "stream",
     "text": [
      "空数据数量为: 1921\n",
      "填充后的空数据数量为: 0\n"
     ]
    }
   ],
   "source": [
    "numeric_attr = ['commit_count','pull_requests']\n",
    "#查找两个对象间的相似性\n",
    "#如果通过暴力法求解耗时耗力\n",
    "#所以选择通过二分法查找的方法进行相似性选择\n",
    "\n",
    "def find_dis_value(dataset, pos, numeric_attr):\n",
    "    def dis_objs(tar_obj_index, sou_obj_index):\n",
    "        tar_obj = dataset.iloc[tar_obj_index]\n",
    "        sou_obj = dataset.iloc[sou_obj_index]\n",
    "        dis_value = 0\n",
    "        for column in tar_obj.index:\n",
    "            if column == 'pull_requests':\n",
    "                if (not math.isnan(tar_obj[column])) and (not math.isnan(sou_obj[column])):                 \n",
    "                    dis_value += sou_obj[column] - tar_obj[column]                \n",
    "                else:\n",
    "                    dis_value += 9998\n",
    "        return dis_value\n",
    "\n",
    "    \n",
    "    mindis = 9999\n",
    "    result_pos = -1\n",
    "    leftindex = 0;\n",
    "    rightindex = dataset.shape[0]-1\n",
    "    #二分查找返回最近距离的一个result_pos\n",
    "    while leftindex<=rightindex:\n",
    "        midindex = int((leftindex+rightindex)/2)\n",
    "        tmpdis = dis_objs(pos,midindex)        \n",
    "        if(tmpdis>0):\n",
    "            rightindex = midindex-1            \n",
    "        elif(tmpdis == 0):\n",
    "            result_pos = midindex\n",
    "            break;\n",
    "        else:\n",
    "            leftindex = midindex+1        \n",
    "        if(tmpdis<mindis):\n",
    "            result_pos = midindex  \n",
    "    return result_pos\n",
    "\n",
    "\n",
    "\n",
    "\n",
    "# 通过数据对象之间的相似性来填补Data_Value缺失值\n",
    "numical_datasets = pd.DataFrame(data[numeric_attr].copy(deep=True))\n",
    "\n",
    "#对numical_datasets排序\n",
    "numical_datasets.sort_values(\"pull_requests\",inplace=True)\n",
    "data_new = numical_datasets['commit_count'].copy(deep=True)\n",
    "\n",
    "print('空数据数量为:',data_new.isnull().sum())\n",
    "length = numical_datasets.shape[0]\n",
    "count=1;\n",
    "for i in range(length):\n",
    "    if math.isnan(numical_datasets['commit_count'].iloc[i]):       \n",
    "#         print('当前处理第'+str(count)+\"个\")\n",
    "#         print(i,numical_datasets.iloc[i])  \n",
    "         result_pos = find_dis_value(numical_datasets, i, numeric_attr)\n",
    "#         print(result_pos,numical_datasets.iloc[result_pos])\n",
    "         data_new.iloc[i] = data_new.iloc[result_pos]\n",
    "#         print(i,data_area_id.iloc[i])\n",
    "         count+=1\n",
    "    \n",
    "#填充后的空数据数量\n",
    "print('填充后的空数据数量为:',data_new.isnull().sum())"
   ]
  },
  {
   "cell_type": "markdown",
   "metadata": {},
   "source": [
    "+ 新旧数据集对比"
   ]
  },
  {
   "cell_type": "code",
   "execution_count": 56,
   "metadata": {},
   "outputs": [
    {
     "name": "stderr",
     "output_type": "stream",
     "text": [
      "C:\\ProgramData\\Anaconda3\\lib\\site-packages\\scipy\\stats\\_distn_infrastructure.py:901: RuntimeWarning: invalid value encountered in greater\n",
      "  return (a < x) & (x < b)\n",
      "C:\\ProgramData\\Anaconda3\\lib\\site-packages\\scipy\\stats\\_distn_infrastructure.py:901: RuntimeWarning: invalid value encountered in less\n",
      "  return (a < x) & (x < b)\n",
      "C:\\ProgramData\\Anaconda3\\lib\\site-packages\\scipy\\stats\\_distn_infrastructure.py:1892: RuntimeWarning: invalid value encountered in less_equal\n",
      "  cond2 = cond0 & (x <= _a)\n"
     ]
    },
    {
     "data": {
      "image/png": "[encoded data removed]",
      "text/plain": [
       "<Figure size 720x720 with 6 Axes>"
      ]
     },
     "metadata": {
      "needs_background": "light"
     },
     "output_type": "display_data"
    }
   ],
   "source": [
    "plt.figure(figsize = (10,10))\n",
    "\n",
    "#直方图\n",
    "plt.subplot(3,2,1)\n",
    "plt.title(\"commit_count hist\")\n",
    "data['commit_count'].hist(alpha=0.5,bins=15) #alpha透明度，bins竖条数\n",
    "\n",
    "#直方图\n",
    "plt.subplot(3,2,2)\n",
    "plt.title(\"new commit_count hist\")\n",
    "data_new.hist(alpha=0.5,bins=15) #alpha透明度，bins竖条数\n",
    "\n",
    "\n",
    "#盒图\n",
    "plt.subplot(3,2,3)\n",
    "plt.title(\"commit_count box\")\n",
    "data['commit_count'].plot(kind='box',grid=True)\n",
    "\n",
    "#盒图\n",
    "plt.subplot(3,2,4)\n",
    "plt.title(\"new commit_count box\")\n",
    "data_new.plot(kind='box',grid=True)\n",
    "\n",
    "#q-q图\n",
    "plt.subplot(3,2,5)\n",
    "stats.probplot(data['commit_count'],dist=\"norm\",plot=plt)\n",
    "\n",
    "plt.subplot(3,2,6)\n",
    "stats.probplot(data_new,dist=\"norm\",plot=plt)\n",
    "\n",
    "plt.show()"
   ]
  },
  {
   "cell_type": "code",
   "execution_count": null,
   "metadata": {},
   "outputs": [],
   "source": []
  }
 ],
 "metadata": {
  "kernelspec": {
   "display_name": "Python 3",
   "language": "python",
   "name": "python3"
  },
  "language_info": {
   "codemirror_mode": {
    "name": "ipython",
    "version": 3
   },
   "file_extension": ".py",
   "mimetype": "text/x-python",
   "name": "python",
   "nbconvert_exporter": "python",
   "pygments_lexer": "ipython3",
   "version": "3.7.4"
  }
 },
 "nbformat": 4,
 "nbformat_minor": 5
}
